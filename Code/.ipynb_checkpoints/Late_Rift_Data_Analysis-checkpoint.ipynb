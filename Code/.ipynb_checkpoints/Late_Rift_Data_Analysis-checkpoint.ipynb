{
 "cells": [
  {
   "cell_type": "markdown",
   "metadata": {},
   "source": [
    "# Data analysis repository associated with \"The end of Midcontinent Rift magmatism and the paleogeography of Laurentia\"\n",
    "\n",
    "This Jupyter notebook is provided as Data Repository materials for:\n",
    "\n",
    "Fairchild, L.M., Swanson-Hysell, N.L., Ramenzani, J., Sprain, C.J., and Bowring, S.A. The end of Midcontinent Rift magmatism and the paleogeography of Laurentia. Lithosphere, doi:10.1130/L580.1.\n",
    "\n",
    "This notebook contains the code (written in Python 2.7) used for data analysis and figure generation for this study. The notebook can be [downloaded for interactive viewing and execution](https://github.com/Swanson-Hysell-Group/2016_Late_Rift/blob/master/Code/Late_Rift_Data_Analysis.ipynb) or [viewed statically within a web browser](https://nbviewer.jupyter.org/github/swanson-hysell-group/2016_Late_Rift/blob/master/Code/Late_Rift_Data_Analysis.ipynb). These ways of viewing the notebook are preferable although a PDF rendering of the notebook is provided in the GSA Data Repository."
   ]
  },
  {
   "cell_type": "markdown",
   "metadata": {},
   "source": [
    "The next three code blocks import necessary libraries and define functions that will be used in the data analysis below. The modules ```pmag.py``` and ```ipmag.py``` are from the PmagPy software package (https://github.com/ltauxe/PmagPy). The current version of these modules (PmagPy 3.4) are included in the Github repository with this notebook. Other necessary function libraries (```matplotlib```, ```pandas```, ```Basemap```, ```IPython```, ```numpy```, ```scipy```) are included with standard scientific Python distributions."
   ]
  },
  {
   "cell_type": "markdown",
   "metadata": {},
   "source": [
    "## Import and develop functions for use within the Jupyter notebook"
   ]
  },
  {
   "cell_type": "code",
   "execution_count": null,
   "metadata": {
    "collapsed": false
   },
   "outputs": [],
   "source": [
    "import pmagpy_3_4.pmag as pmag\n",
    "import pmagpy_3_4.ipmag as ipmag\n",
    "\n",
    "import matplotlib.pyplot as plt\n",
    "from mpl_toolkits.basemap import Basemap\n",
    "from matplotlib.patches import Polygon\n",
    "import matplotlib.patches as mpatch\n",
    "from matplotlib.collections import PatchCollection\n",
    "import pandas as pd\n",
    "from IPython.core.display import HTML\n",
    "import numpy as np\n",
    "import scipy as sp\n",
    "from scipy import special\n",
    "from scipy import stats\n",
    "from IPython.display import Image"
   ]
  },
  {
   "cell_type": "markdown",
   "metadata": {},
   "source": [
    "This notebook runs with figures inline in the Jupyter notebook (instead of opening up in another window) by executing this command:"
   ]
  },
  {
   "cell_type": "code",
   "execution_count": null,
   "metadata": {
    "collapsed": true
   },
   "outputs": [],
   "source": [
    "%matplotlib inline\n",
    "%config InlineBackend.figure_formats = {'svg',}"
   ]
  },
  {
   "cell_type": "markdown",
   "metadata": {},
   "source": [
    "Throughout this analysis there will be maps that show pole positions. The ```pole_figure_appearance``` function controls aspects of the appearance of these maps and eliminates the need to make these customizations for every plot."
   ]
  },
  {
   "cell_type": "code",
   "execution_count": null,
   "metadata": {
    "collapsed": true
   },
   "outputs": [],
   "source": [
    "def pole_figure_appearance(size = (6,6)):\n",
    "    m = Basemap(projection='ortho',lat_0=35,lon_0=200,resolution='c',\n",
    "                area_thresh=50000)\n",
    "    plt.figure(figsize=size)\n",
    "    m.drawcoastlines(linewidth=0.25)\n",
    "    m.fillcontinents(color='bisque',lake_color='white',zorder=1)\n",
    "    m.drawmapboundary(fill_color='white')\n",
    "    m.drawmeridians(np.arange(0,360,30))\n",
    "    m.drawparallels(np.arange(-90,90,30))\n",
    "    return m"
   ]
  },
  {
   "cell_type": "markdown",
   "metadata": {},
   "source": [
    "## Schroeder-Lutsen Basalts\n",
    "### Prior data\n",
    "Tauxe and Kodama (2009) published data from sites of the North Shore Volcanic Group and Schroeder-Lutsen Basalts that was the first study of these units to use modern methods. Books (1968, 1972) and Palmer (1970) also developed data that can largely be considered to be superseded by the Tauxe and Kodama results. In the code below, the Tauxe and Kodama (2009) data are imported and then the data that are from the Schroeder-Lutsen Basalts are split off from the rest of the data from the North Shore Volcanic Group."
   ]
  },
  {
   "cell_type": "code",
   "execution_count": null,
   "metadata": {
    "collapsed": false
   },
   "outputs": [],
   "source": [
    "Tauxe_NSVG_Data=pd.read_csv('../Data/Previous_studies/Tauxe2009a_data.csv',sep=',')\n",
    "Tauxe_NSVG_Data.head()"
   ]
  },
  {
   "cell_type": "markdown",
   "metadata": {},
   "source": [
    "The **sequence** column contains an assignment of the volcanic member for each site with 'nsl' signifying sites that we interpret to be flows within the Schroeder-Lutsen basalts. A new dataframe can be made with only these flows."
   ]
  },
  {
   "cell_type": "code",
   "execution_count": null,
   "metadata": {
    "collapsed": false
   },
   "outputs": [],
   "source": [
    "NSVG_nswu = Tauxe_NSVG_Data.ix[Tauxe_NSVG_Data['sequence'] == 'nswu']\n",
    "NSVG_nswu.reset_index(inplace=True)\n",
    "\n",
    "NSVG_nswu_VGPs = ipmag.make_di_block(NSVG_nswu['pole_lon'],NSVG_nswu['pole_lat'])\n",
    "NSVG_nswu_mean = pmag.fisher_mean(NSVG_nswu_VGPs)\n",
    "print \"Mean pole of the upper SW NSVG (Tauxe and Kodama, 2009):\"\n",
    "ipmag.print_pole_mean(NSVG_nswu_mean)\n",
    "\n",
    "NSVG_nsl = Tauxe_NSVG_Data.ix[Tauxe_NSVG_Data['sequence'] == 'nsl']\n",
    "NSVG_nsl.reset_index(inplace=True)\n",
    "    \n",
    "NSVG_nsl_VGPs = ipmag.make_di_block(NSVG_nsl['pole_lon'],NSVG_nsl['pole_lat'])\n",
    "NSVG_nsl_mean = pmag.fisher_mean(NSVG_nsl_VGPs)\n",
    "print \"\\nMean pole of the Schroeder-Lutsen basalts (Tauxe and Kodama, 2009):\"\n",
    "ipmag.print_pole_mean(NSVG_nsl_mean)\n",
    "\n",
    "m = pole_figure_appearance()\n",
    "\n",
    "ipmag.plot_vgp(m,NSVG_nswu['pole_lon'].tolist(),NSVG_nswu['pole_lat'].tolist(),\n",
    "               color='b',label='NSVG (nswu; Tauxe and Kodama (2009))')\n",
    "ipmag.plot_pole(m,NSVG_nswu_mean['dec'],NSVG_nswu_mean['inc'],\n",
    "                NSVG_nswu_mean['alpha95'], marker='s',color='b')\n",
    "ipmag.plot_vgp(m,NSVG_nsl['pole_lon'].tolist(),NSVG_nsl['pole_lat'].tolist(),\n",
    "               color='g',label='SLB (nsl; Tauxe and Kodama (2009))')\n",
    "ipmag.plot_pole(m,NSVG_nsl_mean['dec'],NSVG_nsl_mean['inc'],\n",
    "                NSVG_nsl_mean['alpha95'], marker='s',color='g')\n",
    "plt.legend(loc='upper center')\n",
    "plt.show()"
   ]
  },
  {
   "cell_type": "markdown",
   "metadata": {},
   "source": [
    "Conduct a Fisher Q-Q test to evaluate whether the SLB population of Tauxe and Kodama (2009) is consistent with a Fisher distribution"
   ]
  },
  {
   "cell_type": "code",
   "execution_count": null,
   "metadata": {
    "collapsed": false
   },
   "outputs": [],
   "source": [
    "ipmag.fishqq(NSVG_nsl['pole_lon'].tolist(),NSVG_nsl['pole_lat'].tolist())"
   ]
  },
  {
   "cell_type": "markdown",
   "metadata": {
    "collapsed": true
   },
   "source": [
    "### New data from Two Island River"
   ]
  },
  {
   "cell_type": "markdown",
   "metadata": {},
   "source": [
    "We present new paleomagnetic data from 40 Schroeder-Lutsen basalt flows exposed along the Two Island River. Magnetizations held by magnetite and those held by hematite or maghemite are virtually identical (see equal area plots below), which suggests oxidation of these lava flows in association with eruption or shortly thereafter."
   ]
  },
  {
   "cell_type": "code",
   "execution_count": null,
   "metadata": {
    "collapsed": false,
    "scrolled": true
   },
   "outputs": [],
   "source": [
    "SLB_Data_all = pd.read_csv('../Data/SLB/pmag_results.txt',sep='\\t',skiprows=1)\n",
    "SLB_Data_all_tc = SLB_Data_all.ix[SLB_Data_all['tilt_correction'] == 100.0]\n",
    "SLB_Data_hem = SLB_Data_all.ix[SLB_Data_all['pole_comp_name'] == 'hem']\n",
    "SLB_Data_hem = SLB_Data_hem.ix[SLB_Data_hem['tilt_correction'] == 100.0]\n",
    "SLB_Data_hem.reset_index\n",
    "SLB_Data = SLB_Data_all.ix[SLB_Data_all['pole_comp_name'] == 'mag']\n",
    "SLB_Data = SLB_Data.ix[SLB_Data['tilt_correction'] == 100.0]\n",
    "SLB_Data.reset_index()\n",
    "SLB_Data.head()"
   ]
  },
  {
   "cell_type": "code",
   "execution_count": null,
   "metadata": {
    "collapsed": false
   },
   "outputs": [],
   "source": [
    "plt.figure(num=1,figsize=(4,4))\n",
    "ipmag.plot_net(1)\n",
    "\n",
    "SLB_dec = SLB_Data['average_dec'].tolist()\n",
    "SLB_inc = SLB_Data['average_inc'].tolist()\n",
    "SLB_a95 = SLB_Data['average_alpha95'].tolist()\n",
    "\n",
    "for i in range(len(SLB_dec)):\n",
    "    ipmag.plot_di_mean(SLB_dec[i], SLB_inc[i], SLB_a95[i])\n",
    "    \n",
    "SLB_mean_dir = ipmag.fisher_mean(SLB_dec,SLB_inc)\n",
    "\n",
    "ipmag.plot_di_mean(SLB_mean_dir['dec'],SLB_mean_dir['inc'],\n",
    "                   SLB_mean_dir['alpha95'],marker='s', color='r')\n",
    "plt.title('Schroeder-Lutsen magnetite directions')\n",
    "    \n",
    "plt.savefig('Code_output/All_SLB_mag_data.pdf')\n",
    "plt.show()"
   ]
  },
  {
   "cell_type": "code",
   "execution_count": null,
   "metadata": {
    "collapsed": false
   },
   "outputs": [],
   "source": [
    "plt.figure(num=1,figsize=(4,4))\n",
    "ipmag.plot_net(1)\n",
    "\n",
    "SLB_hem_dec = SLB_Data_hem['average_dec'].tolist()\n",
    "SLB_hem_inc = SLB_Data_hem['average_inc'].tolist()\n",
    "SLB_hem_a95 = SLB_Data_hem['average_alpha95'].tolist()\n",
    "\n",
    "for i in range(len(SLB_hem_dec)):\n",
    "    ipmag.plot_di_mean(SLB_hem_dec[i], SLB_hem_inc[i], SLB_hem_a95[i])\n",
    "    \n",
    "SLB_hem_mean_dir = ipmag.fisher_mean(SLB_hem_dec,SLB_hem_inc)\n",
    "\n",
    "ipmag.plot_di_mean(SLB_hem_mean_dir['dec'],SLB_hem_mean_dir['inc'],\n",
    "                   SLB_hem_mean_dir['alpha95'],marker='s', color='r')\n",
    "plt.title('Schroeder-Lutsen hematite/maghemite directions')\n",
    "\n",
    "plt.savefig('Code_output/All_SLB_hem_data.pdf')\n",
    "plt.show()"
   ]
  },
  {
   "cell_type": "markdown",
   "metadata": {},
   "source": [
    "Below, we calculate the average angular difference between the magnetite and hematite paleomagnetic directions of each sampled flow."
   ]
  },
  {
   "cell_type": "code",
   "execution_count": null,
   "metadata": {
    "collapsed": false
   },
   "outputs": [],
   "source": [
    "SLB_samples = pd.read_csv('../Data/SLB/pmag_specimens.txt',sep='\\t',skiprows=1)\n",
    "SLB_samples = SLB_samples.ix[SLB_samples['specimen_tilt_correction'] == 100.0]"
   ]
  },
  {
   "cell_type": "code",
   "execution_count": null,
   "metadata": {
    "collapsed": false
   },
   "outputs": [],
   "source": [
    "SLB_mag_hem_diff = []\n",
    "for sample in SLB_samples.er_specimen_name.unique().tolist():\n",
    "    try:\n",
    "        mag_dec = float(SLB_samples.loc[SLB_samples['er_specimen_name']==sample]\\\n",
    "                        .loc[SLB_samples['specimen_comp_name']=='mag'].specimen_dec)\n",
    "        mag_inc = float(SLB_samples.loc[SLB_samples['er_specimen_name']==sample]\\\n",
    "                        .loc[SLB_samples['specimen_comp_name']=='mag'].specimen_inc)\n",
    "        hem_dec = float(SLB_samples.loc[SLB_samples['er_specimen_name']==sample]\\\n",
    "                        .loc[SLB_samples['specimen_comp_name']=='hem'].specimen_dec)\n",
    "        hem_inc = float(SLB_samples.loc[SLB_samples['er_specimen_name']==sample]\\\n",
    "                        .loc[SLB_samples['specimen_comp_name']=='hem'].specimen_inc)\n",
    "        SLB_mag_hem_diff.append(pmag.angle([mag_dec, mag_inc],[hem_dec, hem_inc]))\n",
    "    except:\n",
    "        continue\n",
    "print 'Average angle between magnetite and \\nhematite/maghemite fits for all samples: ', np.average(np.array(SLB_mag_hem_diff))"
   ]
  },
  {
   "cell_type": "code",
   "execution_count": null,
   "metadata": {
    "collapsed": false
   },
   "outputs": [],
   "source": [
    "SLB_Data_low_lat = SLB_Data.ix[SLB_Data['vgp_lat'] < 15]\n",
    "SLB_Data_hi_lat = SLB_Data.ix[SLB_Data['vgp_lat'] >= 15]\n",
    "\n",
    "new_SLB_mean = ipmag.fisher_mean(SLB_Data['vgp_lon'].tolist(),SLB_Data['vgp_lat'].tolist())\n",
    "new_SLB_low_lat_mean = ipmag.fisher_mean(SLB_Data_low_lat['vgp_lon'].tolist(),SLB_Data_low_lat['vgp_lat'].tolist())\n",
    "new_SLB_hi_lat_mean = ipmag.fisher_mean(SLB_Data_hi_lat['vgp_lon'].tolist(),SLB_Data_hi_lat['vgp_lat'].tolist())\n",
    "\n",
    "m = pole_figure_appearance()\n",
    "\n",
    "ipmag.plot_vgp(m,SLB_Data_low_lat['vgp_lon'].tolist(),SLB_Data_low_lat['vgp_lat'].tolist(),\n",
    "               label='SLB low lat VGPs',color='b')\n",
    "ipmag.plot_pole(m,new_SLB_low_lat_mean['dec'],new_SLB_low_lat_mean['inc'],new_SLB_low_lat_mean['alpha95'],\n",
    "                label='SLB low lat mean',marker='s',color='b')\n",
    "ipmag.plot_vgp(m,SLB_Data_hi_lat['vgp_lon'].tolist(),SLB_Data_hi_lat['vgp_lat'].tolist(),\n",
    "               label='SLB high lat VGPs',color='g')\n",
    "ipmag.plot_pole(m,new_SLB_hi_lat_mean['dec'],new_SLB_hi_lat_mean['inc'],new_SLB_hi_lat_mean['alpha95'],\n",
    "                label='SLB high lat mean',marker='s',color='g')\n",
    "ipmag.plot_pole(m,new_SLB_mean['dec'],new_SLB_mean['inc'],new_SLB_mean['alpha95'],\n",
    "                label='All SLB mean',marker='s',color='red')"
   ]
  },
  {
   "cell_type": "markdown",
   "metadata": {},
   "source": [
    "As is apparent in the plots above, SLB paleomagnetic directions fall into two distinct populations. We organize these into lower and higher latitude poles below."
   ]
  },
  {
   "cell_type": "code",
   "execution_count": null,
   "metadata": {
    "collapsed": false,
    "scrolled": true
   },
   "outputs": [],
   "source": [
    "SLB_Data_low_lat.head()"
   ]
  },
  {
   "cell_type": "code",
   "execution_count": null,
   "metadata": {
    "collapsed": false
   },
   "outputs": [],
   "source": [
    "SLB_Data_hi_lat.head()"
   ]
  },
  {
   "cell_type": "markdown",
   "metadata": {},
   "source": [
    "Test whether new SLB data is consistent with a Fisherian distribution"
   ]
  },
  {
   "cell_type": "code",
   "execution_count": null,
   "metadata": {
    "collapsed": false
   },
   "outputs": [],
   "source": [
    "ipmag.fishqq(SLB_Data['vgp_lon'].tolist(),SLB_Data['vgp_lat'].tolist())"
   ]
  },
  {
   "cell_type": "markdown",
   "metadata": {},
   "source": [
    "When the two populations are grouped, the combined SLB data fail the Fisher quantile-quantile test above. Possible explanations for this non-Fisherian distribution are explored below. The Fisher distribution of the high and low latitude VGP populations are evaluated below."
   ]
  },
  {
   "cell_type": "code",
   "execution_count": null,
   "metadata": {
    "collapsed": false
   },
   "outputs": [],
   "source": [
    "ipmag.fishqq(SLB_Data_low_lat['vgp_lon'].tolist(),SLB_Data_low_lat['vgp_lat'].tolist())"
   ]
  },
  {
   "cell_type": "code",
   "execution_count": null,
   "metadata": {
    "collapsed": false
   },
   "outputs": [],
   "source": [
    "ipmag.fishqq(SLB_Data_hi_lat['vgp_lon'].tolist(),SLB_Data_hi_lat['vgp_lat'].tolist())"
   ]
  },
  {
   "cell_type": "markdown",
   "metadata": {},
   "source": [
    "### Evaluating hypotheses for divergent VGP populations in the new SLB data\n",
    "\n",
    "#### *Rock magnetism*\n",
    "A difference in the magnetic mineralogy of certain flows could indicate a chemical remagnetization representing the local geomagnetic field at a later date leading to the more southerly VGPs. However, the specimens in the two VGP populations encompass the same range of demagnetization behaviors. Therefore a rock magnetic explanation for the divergent directions is not readily apparent within the data. The thermal demagnetization spectra (averaged by flow) of both high and low latitude VGPs are presented below."
   ]
  },
  {
   "cell_type": "code",
   "execution_count": null,
   "metadata": {
    "collapsed": false
   },
   "outputs": [],
   "source": [
    "high_lat_sites = SLB_Data_hi_lat.er_site_names.tolist()\n",
    "low_lat_sites = SLB_Data_low_lat.er_site_names.tolist()"
   ]
  },
  {
   "cell_type": "code",
   "execution_count": null,
   "metadata": {
    "collapsed": false,
    "scrolled": false
   },
   "outputs": [],
   "source": [
    "ipmag.demag_magic('../Data/SLB/', plot_by='site', treat='T', \n",
    "                  individual=low_lat_sites,average_measurements=True, \n",
    "                  single_plot=True)"
   ]
  },
  {
   "cell_type": "code",
   "execution_count": null,
   "metadata": {
    "collapsed": false,
    "scrolled": false
   },
   "outputs": [],
   "source": [
    "ipmag.demag_magic('../Data/SLB/', plot_by='site', treat='T', \n",
    "                  individual=high_lat_sites, average_measurements=True, \n",
    "                  single_plot=True)"
   ]
  },
  {
   "cell_type": "markdown",
   "metadata": {},
   "source": [
    "#### *Rapid multiple-eruption episodes that are causing excursional behavior to be overrepresented in the dataset*\n",
    "This explanation would likely predict that the more southerly VGPs are excursional and therefore stratigraphically grouped. However, approaching the problem from a stratigraphic standpoint reveals that the low latitude VGPs are encountered in multiple parts of the stratigraphic succession. Since these VGPS are coming from flows throughout SLB stratigraphy (some sequential flows, others isolated) if the southerly population is excursional it would have needed to be a direction that was returned to repeatedly by the field.\n",
    "In the stratigraphic column below, the blue arrows mark sampled flows that exhibit low latitude directions, and the red arrows mark sampled flows that exhibit high latitude directions. It is quite clear from this figure that there is no stratigraphic pattern of the anomalous paleomagnetic directions.\n",
    "![SLB_strat](../data/SLB/plots/SLB_strat.png)\n",
    "Additionally, a broader map view of the stack of lava flows highlights the discontinuity of the two VGP populations.\n",
    "![SLB_mapbyVGP](../data/SLB/plots/SLB_shadedbyVGPlat.png)\n",
    "\n",
    "One last way to approach this problem is to inspect the path of the paleomagnetic poles being traced out by secular variation. We can look for potential patterns in the path of the poles through time by considering each cooling unit's stratigraphic placement. "
   ]
  },
  {
   "cell_type": "code",
   "execution_count": null,
   "metadata": {
    "collapsed": false
   },
   "outputs": [],
   "source": [
    "# upload strat heights\n",
    "SLB_strat_df = pd.read_csv('../Data/SLB/er_sites.txt', sep='\\t', skiprows=1, \n",
    "                           usecols=['er_site_name', 'site_height'])\n",
    "SLB_strat_df = SLB_strat_df.set_index('er_site_name')\n",
    "\n",
    "m = pole_figure_appearance()\n",
    "\n",
    "centerlon, centerlat = m(SLB_Data['vgp_lon'].tolist(),SLB_Data['vgp_lat'].tolist())\n",
    "m.plot(centerlon, centerlat, alpha=0.5, zorder=1)\n",
    "m.scatter(centerlon, centerlat, marker='.', s=300.0, c = SLB_strat_df.site_height.tolist(), cmap='Paired', zorder=2)\n",
    "\n",
    "plt.colorbar(label='Stratigraphy (meters)', shrink=0.7)\n",
    "plt.show()"
   ]
  },
  {
   "cell_type": "markdown",
   "metadata": {},
   "source": [
    "From this view, we notice the relatively tight grouping of poles among certain stratigraphic intervals as they trace out sections of the entire distribution. However, there is still no apparent explanation for the occasional excursion of the geomagnetic pole to lower latitudes. It seems likely that the divergence of these two VGP populations can be attributed to a recurrent geomagnetic excursional behavior rather than a post-emplacement offset of magnetizations. We also note the similarity of this anomalous behavior to the distribution of paleomagnetic poles from the Lake Shore Traps (see below)."
   ]
  },
  {
   "cell_type": "markdown",
   "metadata": {},
   "source": [
    "## Combine new SLB data with Tauxe and Kodama (2009)"
   ]
  },
  {
   "cell_type": "code",
   "execution_count": null,
   "metadata": {
    "collapsed": false
   },
   "outputs": [],
   "source": [
    "combined_SLB_lon = NSVG_nsl['pole_lon'].tolist() + SLB_Data['vgp_lon'].tolist()\n",
    "combined_SLB_lat = NSVG_nsl['pole_lat'].tolist() + SLB_Data['vgp_lat'].tolist()\n",
    "combined_SLB_mean = ipmag.fisher_mean(combined_SLB_lon,combined_SLB_lat)"
   ]
  },
  {
   "cell_type": "code",
   "execution_count": null,
   "metadata": {
    "collapsed": false,
    "scrolled": false
   },
   "outputs": [],
   "source": [
    "m = pole_figure_appearance()\n",
    "\n",
    "# ipmag.plot_vgp(m,NSVG_nswu['pole_lon'].tolist(),NSVG_nswu['pole_lat'].tolist(),\n",
    "#                color='b',label='NSVG (nswu; Tauxe and Kodama (2009))')\n",
    "ipmag.plot_pole(m,NSVG_nswu_mean['dec'],NSVG_nswu_mean['inc'],\n",
    "                NSVG_nswu_mean['alpha95'], marker='s',color='b',\n",
    "                label='NSVG mean (nswu; Tauxe and Kodama (2009))')\n",
    "ipmag.plot_vgp(m,combined_SLB_lon,combined_SLB_lat, color='g',\n",
    "               label='combined SLB (this study and Tauxe and Kodama (2009))')\n",
    "ipmag.plot_vgp(m,NSVG_nsl['pole_lon'].tolist(),NSVG_nsl['pole_lat'].tolist(),\n",
    "               color='springgreen',label='SLB (nsl; Tauxe and Kodama (2009))')\n",
    "ipmag.plot_pole(m,combined_SLB_mean['dec'],combined_SLB_mean['inc'],\n",
    "                combined_SLB_mean['alpha95'], marker='s',color='g')\n",
    "\n",
    "ipmag.print_pole_mean(combined_SLB_mean)\n",
    "\n",
    "plt.legend()\n",
    "plt.savefig('./Code_output/NSVG_SLB_poles_combined.pdf')\n",
    "plt.show()"
   ]
  },
  {
   "cell_type": "markdown",
   "metadata": {},
   "source": [
    "The combined VGPs are non-Fisherian in distribution as seen in the Fisher Q-Q test below."
   ]
  },
  {
   "cell_type": "code",
   "execution_count": null,
   "metadata": {
    "collapsed": false
   },
   "outputs": [],
   "source": [
    "ipmag.fishqq(combined_SLB_lon,combined_SLB_lat)"
   ]
  },
  {
   "cell_type": "markdown",
   "metadata": {
    "collapsed": true
   },
   "source": [
    "## Lake Shore Traps"
   ]
  },
  {
   "cell_type": "code",
   "execution_count": null,
   "metadata": {
    "collapsed": false
   },
   "outputs": [],
   "source": [
    "Diehl1994a_LST_Data_all=pd.read_csv('../Data/Previous_studies/Diehl1994a_data.csv',sep=',')\n",
    "#Kulakov2013 reported data for the flow LST28 that supersedes \n",
    "#the Diehl direction which should accordingly be dropped\n",
    "Diehl1994a_LST_Data=Diehl1994a_LST_Data_all.drop(17)\n",
    "Diehl1994a_LST_Data.reset_index(inplace=True)\n",
    "Diehl1994a_LST_Data.head()"
   ]
  },
  {
   "cell_type": "code",
   "execution_count": null,
   "metadata": {
    "collapsed": false
   },
   "outputs": [],
   "source": [
    "Kulakov2013a_LST_Data=pd.read_csv('../Data/Previous_studies/Kulakov2013a_data.csv',sep=',')\n",
    "Kulakov2013a_LST_Data.head()"
   ]
  },
  {
   "cell_type": "code",
   "execution_count": null,
   "metadata": {
    "collapsed": false
   },
   "outputs": [],
   "source": [
    "LST_Diehl_VGPs=ipmag.make_di_block(Diehl1994a_LST_Data['vgp_lon'],\n",
    "                                   Diehl1994a_LST_Data['vgp_lat'])\n",
    "\n",
    "LST_Kulakov_VGPs=ipmag.make_di_block(Kulakov2013a_LST_Data['vgp_lon'],\n",
    "                                     Kulakov2013a_LST_Data['vgp_lat'])\n",
    "\n",
    "LST_VGPs=np.concatenate((LST_Diehl_VGPs,LST_Kulakov_VGPs))\n",
    "\n",
    "LST_Diehl_mean = pmag.fisher_mean(LST_Diehl_VGPs)\n",
    "LST_Kulakov_mean=pmag.fisher_mean(LST_Kulakov_VGPs)\n",
    "LST_all_mean=pmag.fisher_mean(LST_VGPs)"
   ]
  },
  {
   "cell_type": "code",
   "execution_count": null,
   "metadata": {
    "collapsed": false
   },
   "outputs": [],
   "source": [
    "m = Basemap(projection='ortho',lat_0=35,lon_0=200,resolution='c',\n",
    "            area_thresh=50000)\n",
    "pole_figure_appearance()\n",
    "\n",
    "ipmag.plot_vgp(m,Diehl1994a_LST_Data['vgp_lon'].tolist(),\n",
    "               Diehl1994a_LST_Data['vgp_lat'].tolist(),\n",
    "              label='LST dikes VGPs (Diehl1994a)',color='r')\n",
    "ipmag.plot_vgp(m,Kulakov2013a_LST_Data['vgp_lon'].tolist(),\n",
    "               Kulakov2013a_LST_Data['vgp_lat'].tolist(),\n",
    "              label='LST dikes VGPs (Kulakov2013a)',color='b')\n",
    "ipmag.plot_pole(m,LST_all_mean['dec'],LST_all_mean['inc'],\n",
    "                LST_all_mean['alpha95'], label='LST dikes mean pole',marker='s')\n",
    "ipmag.plot_pole(m,LST_Diehl_mean['dec'],LST_Diehl_mean['inc'],\n",
    "                LST_Diehl_mean['alpha95'], color='r',\n",
    "                label='Diehl1994a mean',marker='s')\n",
    "#from Kulakov2013a\n",
    "ipmag.plot_pole(m,186.4,23.1,4.0,color='g',\n",
    "                label='mean as calculated in Kulakov2013a',marker='s')\n",
    "plt.title('Lake Shore Traps VGPs and mean poles')\n",
    "plt.legend(loc=4)\n",
    "plt.savefig('Code_output/LST_vgps.pdf')\n",
    "plt.show()"
   ]
  },
  {
   "cell_type": "markdown",
   "metadata": {},
   "source": [
    "Here we test whether the distribution of Lake Shore Traps VGPs are Fisherian. "
   ]
  },
  {
   "cell_type": "code",
   "execution_count": null,
   "metadata": {
    "collapsed": false
   },
   "outputs": [],
   "source": [
    "ipmag.fishqq(di_block=LST_VGPs)"
   ]
  },
  {
   "cell_type": "markdown",
   "metadata": {},
   "source": [
    "Here we test for a common mean between the Lake Shore Traps VGPs and our newly combined data from the Schroeder-Lutsen basalts."
   ]
  },
  {
   "cell_type": "code",
   "execution_count": null,
   "metadata": {
    "collapsed": false
   },
   "outputs": [],
   "source": [
    "ipmag.common_mean_bootstrap(LST_VGPs,ipmag.make_di_block(combined_SLB_lon,\n",
    "                                                         combined_SLB_lat))"
   ]
  },
  {
   "cell_type": "code",
   "execution_count": null,
   "metadata": {
    "collapsed": false
   },
   "outputs": [],
   "source": [
    "ipmag.common_mean_watson(LST_VGPs,\n",
    "                         ipmag.make_di_block(combined_SLB_lon,combined_SLB_lat), \n",
    "                         plot='yes')"
   ]
  },
  {
   "cell_type": "markdown",
   "metadata": {},
   "source": [
    "## Michipicoten Island"
   ]
  },
  {
   "cell_type": "markdown",
   "metadata": {},
   "source": [
    "### Palmer and Davis (1987) data"
   ]
  },
  {
   "cell_type": "code",
   "execution_count": null,
   "metadata": {
    "collapsed": false
   },
   "outputs": [],
   "source": [
    "Palmer1987_data=pd.read_csv('../Data/Previous_studies/Palmer1987a_data_combined_sites.csv')\n",
    "ipmag.vgp_calc(Palmer1987_data)"
   ]
  },
  {
   "cell_type": "markdown",
   "metadata": {},
   "source": [
    "The code below splits this dataframe into sites from older main stage basalts that have been correlated to the Mamainse Point Formation, sites from the instrusive suite, and sites from the Michipicoten Island Formation.\n",
    "\n",
    "While not explicitly described as such, it appears that each of the sites sampled in Palmer and Davis (1987) are treated as single cooling units except for site 'KM' which is decribed as being collected over a stratigraphic interval containing multiple flows. As the site is not from a single cooling unit, data from this are excluded. Also, site 18 is described as coming from a fault bound block with anomalous steep dip where a structural attitude could not be determined and should be excluded.\n",
    "\n",
    "Palmer and Davis (1987) sampled the Channel Lake Member, the Cuesta Member, and the Davieaux Island Member at multiple sites that were used in the final calculation of the Michipicoten Island Formation mean paleomagnetic pole. However, field observations reveal that some of these sites represented the redundant sampling of a single cooling unit, meaning that several VGPs that were originally treated as independent should have been combined with one another in the final calculation. Here we reduce the Palmer and Davis (1987) data set to satisfy these concerns. The reduced number of sites for each Michipicoten Island Formation member is shown below."
   ]
  },
  {
   "cell_type": "code",
   "execution_count": null,
   "metadata": {
    "collapsed": false
   },
   "outputs": [],
   "source": [
    "print 'Number of Cuesta Member flows: ', len(Palmer1987_data.loc[Palmer1987_data['member']=='Cuesta_Member'])\n",
    "print 'Number of Channel Lake Member flows: ', len(Palmer1987_data.loc[Palmer1987_data['member']=='Channel_Lake_Member'])\n",
    "print 'Number of Quebec Harbour Member flows: ', len(Palmer1987_data.loc[Palmer1987_data['member']=='Quebec_Harbour_Member'])\n",
    "print 'Number of South Shore Member flows: ', len(Palmer1987_data.loc[Palmer1987_data['member']=='South_Shore_Member'])\n",
    "print 'Number of Davieaux Island Member flows: ', len(Palmer1987_data.loc[Palmer1987_data['member']=='Davieaux_Island_Member'])\n",
    "print 'Total number of cooling units from the Michipicoten Island Formation: ',len(Palmer1987_data.loc[Palmer1987_data['formation']=='Michipicoten_Island'])"
   ]
  },
  {
   "cell_type": "code",
   "execution_count": null,
   "metadata": {
    "collapsed": false
   },
   "outputs": [],
   "source": [
    "MI_Mamainse_Fm=Palmer1987_data.ix[Palmer1987_data['formation'] == 'Quebec_Mine']\n",
    "MI_Mamainse_Fm.reset_index(inplace=True, drop=True)\n",
    "#make dataframe that excludes sites 18 and KM and reset the index of the dataframe\n",
    "#MI_Mamainse_Fm=MI_Mamainse_Fm_all.drop([1,8])\n",
    "MI_Mamainse_Fm.reset_index(inplace=True)\n",
    "MI_Mamainse_Fm_VGPs = ipmag.make_di_block(MI_Mamainse_Fm['vgp_lon'],MI_Mamainse_Fm['vgp_lat'])\n",
    "MI_Mamainse_Fm_mean = pmag.fisher_mean(MI_Mamainse_Fm_VGPs)\n",
    "print 'Michipicoten Island Mamainse Formation mean:'\n",
    "ipmag.print_pole_mean(MI_Mamainse_Fm_mean)\n",
    "\n",
    "MI_intrusions=Palmer1987_data.ix[Palmer1987_data['formation'] == 'intrusive']\n",
    "MI_intrusions.reset_index(inplace=True, drop=True)\n",
    "MI_intrusions_VGPs = ipmag.make_di_block(MI_intrusions['vgp_lon'],MI_intrusions['vgp_lat'])\n",
    "MI_intrusions_mean = pmag.fisher_mean(MI_intrusions_VGPs)\n",
    "print '\\nMichipicoten Island intrusions mean:'\n",
    "ipmag.print_pole_mean(MI_intrusions_mean)\n",
    "\n",
    "Michipicoten_Island_Fm=Palmer1987_data.ix[Palmer1987_data['formation'] == 'Michipicoten_Island']\n",
    "Michipicoten_Island_Fm.reset_index(inplace=True, drop=True)\n",
    "Michipicoten_Island_Fm_VGPs = ipmag.make_di_block(Michipicoten_Island_Fm['vgp_lon'],Michipicoten_Island_Fm['vgp_lat'])\n",
    "Michipicoten_Island_Fm_mean = pmag.fisher_mean(Michipicoten_Island_Fm_VGPs)\n",
    "print '\\nMichipicoten Island Formation mean:'\n",
    "ipmag.print_pole_mean(Michipicoten_Island_Fm_mean)\n",
    "\n",
    "m = pole_figure_appearance()\n",
    "\n",
    "ipmag.plot_vgp(m,MI_Mamainse_Fm['vgp_lon'].tolist(),MI_Mamainse_Fm['vgp_lat'].tolist(),\n",
    "               label='MI_MP VGPs',color='g')\n",
    "ipmag.plot_pole(m,MI_Mamainse_Fm_mean['dec'],MI_Mamainse_Fm_mean['inc'],MI_Mamainse_Fm_mean['alpha95'],\n",
    "                label='MI_MP_mean',marker='s',color='g')\n",
    "ipmag.plot_pole(m,183.2,31.2,2.5,label='upper Mamainse (S-H et al., 2014)',marker='s')\n",
    "\n",
    "ipmag.plot_vgp(m,MI_intrusions['vgp_lon'].tolist(),MI_intrusions['vgp_lat'].tolist(),\n",
    "               label='intrusion VGPs',color='blue')\n",
    "ipmag.plot_pole(m,MI_intrusions_mean['dec'],MI_intrusions_mean['inc'],MI_intrusions_mean['alpha95'],\n",
    "                label='intrusion mean',marker='s',color='blue')\n",
    "\n",
    "ipmag.plot_vgp(m,Michipicoten_Island_Fm['vgp_lon'].tolist(),\n",
    "               Michipicoten_Island_Fm['vgp_lat'].tolist(),\n",
    "               label='Mich. Fm VGPs',color='goldenrod')\n",
    "ipmag.plot_pole(m,Michipicoten_Island_Fm_mean['dec'],Michipicoten_Island_Fm_mean['inc'],\n",
    "                Michipicoten_Island_Fm_mean['alpha95'],\n",
    "                label='Mich. Fm mean',marker='s',color='goldenrod')\n",
    "plt.title('Palmer and Davis (1987) Michipicoten data')\n",
    "plt.legend()\n",
    "plt.show()"
   ]
  },
  {
   "cell_type": "code",
   "execution_count": null,
   "metadata": {
    "collapsed": false
   },
   "outputs": [],
   "source": [
    "Michipicoten_Island_Fm"
   ]
  },
  {
   "cell_type": "markdown",
   "metadata": {
    "collapsed": true
   },
   "source": [
    "### New data from the Michipicoten Island Formation"
   ]
  },
  {
   "cell_type": "markdown",
   "metadata": {},
   "source": [
    "New paleomagnetic data from the Michipicoten Island Formation are imported below. We first separate data by *in situ* (\"geo\") and tilt-corrected (\"tc\") coordinates. We then further separate data by member (\"SS\" = South Shore Member basalts, \"CM\" = Cuesta Member andesite)."
   ]
  },
  {
   "cell_type": "code",
   "execution_count": null,
   "metadata": {
    "collapsed": false
   },
   "outputs": [],
   "source": [
    "All_Michi = pd.read_csv('../Data/Michipicoten/pmag_results.txt',\n",
    "                        sep='\\t',skiprows=1)\n",
    "All_Michi_geo = All_Michi.ix[All_Michi['pole_comp_name'] == 'HT']\\\n",
    ".ix[All_Michi['tilt_correction']==0]\n",
    "All_Michi_tc = All_Michi.ix[All_Michi['pole_comp_name'] == 'HT']\\\n",
    ".ix[All_Michi['tilt_correction']==100]\n",
    "All_Michi_tc.reset_index(inplace=True, drop=True)\n",
    "All_Michi_geo.reset_index(inplace=True, drop=True)"
   ]
  },
  {
   "cell_type": "code",
   "execution_count": null,
   "metadata": {
    "collapsed": false
   },
   "outputs": [],
   "source": [
    "SS_final = All_Michi.ix[All_Michi['er_site_names'].str.startswith('SS')]\n",
    "SS_final_tc = All_Michi_tc.ix[All_Michi_tc['er_site_names'].str.startswith('SS')]\n",
    "SS_final_geo = All_Michi_geo.ix[All_Michi_geo['er_site_names'].str.startswith('SS')]\n",
    "SS_final_tc.head()"
   ]
  },
  {
   "cell_type": "code",
   "execution_count": null,
   "metadata": {
    "collapsed": false
   },
   "outputs": [],
   "source": [
    "CM_final_tc = All_Michi_tc.ix[All_Michi_tc['er_site_names'].str.startswith('CM')]\n",
    "CM_final_tc"
   ]
  },
  {
   "cell_type": "markdown",
   "metadata": {},
   "source": [
    "Paleomagnetic site means of the South Shore basalts are plotted below with the overall mean."
   ]
  },
  {
   "cell_type": "code",
   "execution_count": null,
   "metadata": {
    "collapsed": false
   },
   "outputs": [],
   "source": [
    "plt.figure(num=1,figsize=(5,5))\n",
    "ipmag.plot_net(1)\n",
    "\n",
    "SS_dec = SS_final_tc['average_dec'].tolist()\n",
    "SS_inc = SS_final_tc['average_inc'].tolist()\n",
    "SS_a95 = SS_final_tc['average_alpha95'].tolist()\n",
    "\n",
    "for i in range(len(SS_dec)):\n",
    "    ipmag.plot_di_mean(SS_dec[i], SS_inc[i], SS_a95[i])\n",
    "\n",
    "SS_mean_dir = ipmag.fisher_mean(SS_dec,SS_inc)\n",
    "\n",
    "ipmag.plot_di_mean(SS_mean_dir['dec'],SS_mean_dir['inc'],\n",
    "                   SS_mean_dir['alpha95'],marker='s', color='r')\n",
    "ipmag.print_direction_mean(SS_mean_dir)\n",
    "plt.savefig('Code_output/All_SS_data.pdf')\n",
    "plt.title('Magnetization directions of South Shore basalt sites')\n",
    "plt.clabel\n",
    "plt.show()"
   ]
  },
  {
   "cell_type": "markdown",
   "metadata": {},
   "source": [
    "A Fisher Q-Q test reveals these data to be consistent with a Fisher distribution."
   ]
  },
  {
   "cell_type": "code",
   "execution_count": null,
   "metadata": {
    "collapsed": false
   },
   "outputs": [],
   "source": [
    "ipmag.fishqq(SS_dec, SS_inc)"
   ]
  },
  {
   "cell_type": "markdown",
   "metadata": {},
   "source": [
    "The bedding is similar through the South Shore Member such that a fold test is inconclusive (see below). A more complete treatment of our structural analysis of the Michipicoten Island lava flows, including a walkthrough of how we determined tilt-correction for different stratigraphic sections of the South Shore Member, is included within the Github repository as a separate Jupyter notebook."
   ]
  },
  {
   "cell_type": "code",
   "execution_count": null,
   "metadata": {
    "collapsed": false
   },
   "outputs": [],
   "source": [
    "# get bedding info\n",
    "bedding = pd.read_csv('../Data/Michipicoten/er_samples.txt', \n",
    "                      sep='\\t',skiprows=1, usecols=['er_site_name', \n",
    "                                                    'sample_bed_dip', \n",
    "                                                    'sample_bed_dip_direction'])"
   ]
  },
  {
   "cell_type": "code",
   "execution_count": null,
   "metadata": {
    "collapsed": false
   },
   "outputs": [],
   "source": [
    "bedding = bedding.drop_duplicates()\n",
    "bedding = bedding.set_index('er_site_name')"
   ]
  },
  {
   "cell_type": "code",
   "execution_count": null,
   "metadata": {
    "collapsed": false,
    "scrolled": true
   },
   "outputs": [],
   "source": [
    "bedding.head()"
   ]
  },
  {
   "cell_type": "code",
   "execution_count": null,
   "metadata": {
    "collapsed": false
   },
   "outputs": [],
   "source": [
    "SS_diddd = []\n",
    "\n",
    "for site in bedding.index:\n",
    "    if str(site) in SS_final_geo.er_site_names.tolist():\n",
    "        SS_diddd.append([float(SS_final_geo.loc[SS_final_geo['er_site_names']\\\n",
    "                                                ==str(site)]['average_dec']),\n",
    "                         float(SS_final_geo.loc[SS_final_geo['er_site_names']\\\n",
    "                                                ==str(site)]['average_inc']),\n",
    "                         bedding.loc[str(site), 'sample_bed_dip_direction'],\n",
    "                         bedding.loc[str(site), 'sample_bed_dip']])"
   ]
  },
  {
   "cell_type": "code",
   "execution_count": null,
   "metadata": {
    "collapsed": false
   },
   "outputs": [],
   "source": [
    "ipmag.bootstrap_fold_test(np.array(SS_diddd))"
   ]
  },
  {
   "cell_type": "markdown",
   "metadata": {},
   "source": [
    "Paleomagnetic site means of the Cuesta Member andesite are plotted below. Only two Cuesta Member flows were identified in the field, so a Cuesta Member mean would not have much significance."
   ]
  },
  {
   "cell_type": "code",
   "execution_count": null,
   "metadata": {
    "collapsed": false
   },
   "outputs": [],
   "source": [
    "plt.figure(num=1,figsize=(5,5))\n",
    "ipmag.plot_net(1)\n",
    "\n",
    "CM_dec = CM_final_tc['average_dec'].tolist()\n",
    "CM_inc = CM_final_tc['average_inc'].tolist()\n",
    "CM_a95 = CM_final_tc['average_alpha95'].tolist()\n",
    "\n",
    "for i in range(len(CM_dec)):\n",
    "    ipmag.plot_di_mean(CM_dec[i], CM_inc[i], CM_a95[i])\n",
    "plt.title('Cuesta Member site means')\n",
    "plt.show()"
   ]
  },
  {
   "cell_type": "markdown",
   "metadata": {},
   "source": [
    "## Combine new Michipicoten data with Palmer and Davis (1987)\n",
    "\n",
    "Given that we have obtained U-Pb dates for the West Sand Bay tuff and the Davieaux Island Member rhyolite, we are interested in generating a pole that is bracketed by these dates. The units between and including these dates are the West Sand Bay Member, the Quebec Harbor Member, the East Sand Bay Member, the South Shore Member and the Davieaux Island Member. Therefore we combine our data from the South Shore Member with the Quebec Harbour Member and Davieaux Island Member data from Palmer and Davis (1987)."
   ]
  },
  {
   "cell_type": "code",
   "execution_count": null,
   "metadata": {
    "collapsed": false
   },
   "outputs": [],
   "source": [
    "Michipicoten_Island_Fm.iloc[[3,7], :]"
   ]
  },
  {
   "cell_type": "code",
   "execution_count": null,
   "metadata": {
    "collapsed": false
   },
   "outputs": [],
   "source": [
    "Palmer_data_trimmed = Michipicoten_Island_Fm.iloc[[3,7], :]\n",
    "combined_Michi_lon = Palmer_data_trimmed['vgp_lon'].tolist()\\\n",
    "+ SS_final_tc['vgp_lon'].tolist()\n",
    "combined_Michi_lat = Palmer_data_trimmed['vgp_lat'].tolist()\\\n",
    "+ SS_final_tc['vgp_lat'].tolist()\n",
    "combined_Michi_mean = ipmag.fisher_mean(combined_Michi_lon,combined_Michi_lat)"
   ]
  },
  {
   "cell_type": "code",
   "execution_count": null,
   "metadata": {
    "collapsed": false
   },
   "outputs": [],
   "source": [
    "SS_final_mean = ipmag.fisher_mean(SS_final_tc['vgp_lon'].tolist(),\n",
    "                                  SS_final_tc['vgp_lat'].tolist())\n",
    "\n",
    "m = pole_figure_appearance()\n",
    "\n",
    "ipmag.plot_vgp(m,SS_final_tc['vgp_lon'].tolist(),\n",
    "               SS_final_tc['vgp_lat'].tolist(),\n",
    "               label='South Shore Member VGPs (this study)',color='b')\n",
    "\n",
    "ipmag.plot_vgp(m,Palmer_data_trimmed['vgp_lon'].tolist(),\n",
    "               Palmer_data_trimmed['vgp_lat'].tolist(),\n",
    "               label='Palmer and Davis (1987) VGPs used in mean pole',\n",
    "               color='purple')\n",
    "\n",
    "ipmag.plot_pole(m,combined_Michi_mean['dec'],combined_Michi_mean['inc'],\n",
    "                combined_Michi_mean['alpha95'], label='Michipicoten Island Fm. \\\n",
    "grand mean (this study and Palmer and Davis, 1987)',\n",
    "                marker='s',markersize=25, color='red')\n",
    "\n",
    "plt.legend()\n",
    "plt.savefig('Code_output/Michi_VGPs.pdf')\n",
    "\n",
    "print \"South Shore Member pole: \"\n",
    "ipmag.print_pole_mean(SS_final_mean)\n",
    "\n",
    "print \"\\n Michipicoten Island Fm mean bracketed by dates: \"\n",
    "ipmag.print_pole_mean(combined_Michi_mean)\n",
    "\n",
    "plt.show()"
   ]
  },
  {
   "cell_type": "code",
   "execution_count": null,
   "metadata": {
    "collapsed": false
   },
   "outputs": [],
   "source": [
    "ipmag.fishqq(combined_Michi_lon,combined_Michi_lat)"
   ]
  },
  {
   "cell_type": "markdown",
   "metadata": {},
   "source": [
    "## Paleogeography of Laurentia\n",
    "### Late Rift Poles Compilation"
   ]
  },
  {
   "cell_type": "markdown",
   "metadata": {},
   "source": [
    "Here we compile selected paleomagnetic poles of the Keweenawan Track and add our newly developed data. This section of the code integrates the functionality of the GPlates software for our paleogeographic reconstruction of Laurentia. The ```pygplates``` package provides a Python API to interact with GPlates and is a dependecy of the following code blocks. If you wish to render this notebook interactively, the ```pygplates``` package can be downloaded from the GPlates website: http://www.gplates.org/download.html"
   ]
  },
  {
   "cell_type": "code",
   "execution_count": null,
   "metadata": {
    "collapsed": true
   },
   "outputs": [],
   "source": [
    "# If this code block gives an error after you have already \n",
    "# installed PyGPlates, you probably still need to add the package to your path\n",
    "import pygplates\n",
    "import matplotlib"
   ]
  },
  {
   "cell_type": "code",
   "execution_count": null,
   "metadata": {
    "collapsed": false
   },
   "outputs": [],
   "source": [
    "# 1080 Ma = Nonesuch pole in recon, 1070 Ma = Freda pole, 1050 = Jacobsville\n",
    "for reconstruction_time in [1109, 1105, 1100, 1097, 1090, 1083, 1080, 1070, 1050]:\n",
    "    rotation_model = pygplates.RotationModel('../Data/Reconstruction/Late_Rift_recon.rot')\n",
    "    plate = pygplates.FeatureCollection('../Data/Reconstruction/1000_Laurentia.gpml')\n",
    "    plate_outline = pygplates.FeatureCollection('../Data/Reconstruction/1000_Laurentia2.gpml')\n",
    "    export_filename = './Code_output/Reconstructions/reconstructed_{0}Ma.shp'.format(reconstruction_time)\n",
    "    export_outline_filename = './Code_output/Reconstructions/reconstructed_outline_{0}Ma.shp'.format(reconstruction_time)\n",
    "    pygplates.reconstruct(plate, rotation_model, export_filename, reconstruction_time)\n",
    "    pygplates.reconstruct(plate_outline, rotation_model, export_outline_filename, reconstruction_time)"
   ]
  },
  {
   "cell_type": "code",
   "execution_count": null,
   "metadata": {
    "collapsed": false
   },
   "outputs": [],
   "source": [
    "fig = plt.figure(figsize=(12,6))\n",
    "ax1 = fig.add_subplot(121)\n",
    "m = Basemap(projection='ortho',lat_0=35,lon_0=200,resolution='c',\n",
    "            area_thresh=50000)\n",
    "ax1.set_aspect(30, adjustable='box')\n",
    "m.drawcoastlines(linewidth=0.25)\n",
    "m.fillcontinents(color='bisque',lake_color='white')\n",
    "m.drawmapboundary(fill_color='white')\n",
    "m.drawmeridians(np.arange(0,360,30))\n",
    "m.drawparallels(np.arange(-90,90,30))\n",
    "m.readshapefile('../Data/Reconstruction/Laurentia', 'Laurentia', linewidth=1)\n",
    "viridis = cm = plt.get_cmap('viridis') \n",
    "cNorm  = matplotlib.colors.Normalize(vmin=0, vmax=10)\n",
    "scalarMap = matplotlib.cm.ScalarMappable(norm=cNorm, cmap=viridis)\n",
    "color_ind = 0\n",
    "\n",
    "# Swanson-Hysell et al., 2014b -- 1105 Ma\n",
    "Osler_color = scalarMap.to_rgba(color_ind)\n",
    "ipmag.plot_pole(m, -158.3, 42.5, 3.7, marker='s', color=Osler_color, \n",
    "                label='Osler Volcanic Group (upperR)')\n",
    "color_ind+=1\n",
    "# Swanson-Hysell et al., 2014a -- 1100 Ma\n",
    "MamainseupperR_color = scalarMap.to_rgba(color_ind)\n",
    "ipmag.plot_pole(m, -170.3, 36.1, 4.9, marker='s', color=MamainseupperR_color, \n",
    "                label='Mamainse Pt. (lowerN, upperR)')\n",
    "color_ind+=1\n",
    "# Tauxe and Kodama (2009) -- 1097 Ma\n",
    "NSVG_color = scalarMap.to_rgba(color_ind)\n",
    "ipmag.plot_pole(m,NSVG_nswu_mean['dec'],NSVG_nswu_mean['inc'],\n",
    "                NSVG_nswu_mean['alpha95'], marker='s',color=NSVG_color,label='NSVG')\n",
    "color_ind+=1\n",
    "# this study + Tauxe and Kodama (2009) -- 1090 Ma\n",
    "SLB_color = scalarMap.to_rgba(color_ind)\n",
    "ipmag.plot_pole(m,combined_SLB_mean['dec'],combined_SLB_mean['inc'],\n",
    "                combined_SLB_mean['alpha95'], marker='s',color=SLB_color,\n",
    "                label='SLB')\n",
    "color_ind+=1\n",
    "# Combine Books1972 and Hnat2006 Portage Lake Volcanics data -- 1093 Ma\n",
    "PLV_color = scalarMap.to_rgba(color_ind)\n",
    "Books1972_data = pd.read_csv('../Data/Previous_studies/Books1972_data.csv')\n",
    "Books1972_data = Books1972_data.ix[Books1972_data['site'].str.startswith('PL')]\n",
    "Books1972_dec = Books1972_data['dec'].tolist()\n",
    "Books1972_inc = Books1972_data['inc'].tolist()\n",
    "Books1972_slat = Books1972_data['lat'].apply(float).tolist()\n",
    "Books1972_slon = Books1972_data['lon'].apply(float).tolist()\n",
    "Hnat2006_data = pd.read_csv('../Data/Previous_studies/Hnat2006_data.csv')\n",
    "Hnat2006_data = Hnat2006_data.ix[Hnat2006_data['Site Number'].str.startswith('PL')].ix[Hnat2006_data['Component']=='A']\n",
    "Hnat2006_dec = Hnat2006_data['Dec_tc'].tolist()\n",
    "Hnat2006_inc = Hnat2006_data['Inc_tc'].tolist()\n",
    "Hnat2006_slat = Hnat2006_data['Latitude'].apply(float).tolist()\n",
    "Hnat2006_slon = Hnat2006_data['Longitude'].apply(float).tolist()\n",
    "PLV_all_dec = Books1972_dec+Hnat2006_dec\n",
    "PLV_all_inc = Books1972_inc+Hnat2006_inc\n",
    "PLV_all_slat = Books1972_slat+Hnat2006_slat\n",
    "PLV_all_slon = Books1972_slon+Hnat2006_slon\n",
    "PLV_all_dirs = pd.DataFrame(data={'dec_tc':PLV_all_dec, 'inc_tc':PLV_all_inc, 'slat':PLV_all_slat, 'slon':PLV_all_slon})\n",
    "ipmag.vgp_calc(PLV_all_dirs, site_lat='slat', site_lon='slon')\n",
    "PLV_mean_pole = ipmag.fisher_mean(PLV_all_dirs['vgp_lon'].tolist(), PLV_all_dirs['vgp_lat'].tolist())\n",
    "ipmag.plot_pole(m, PLV_mean_pole['dec'], PLV_mean_pole['inc'], PLV_mean_pole['alpha95'], marker='s', color=PLV_color, \n",
    "                label='Portage Lake Volcanics')\n",
    "color_ind+=1\n",
    "# Kulakov et al. (2013)\n",
    "LST_color = scalarMap.to_rgba(color_ind)\n",
    "ipmag.plot_pole(m,LST_all_mean['dec'],LST_all_mean['inc'],\n",
    "                LST_all_mean['alpha95'], label='LST dikes mean pole',\n",
    "                marker='s', color=LST_color)\n",
    "color_ind+=1\n",
    "# this study + Palmer and Davis (1987) -- 1083 Ma\n",
    "Michi_color = scalarMap.to_rgba(color_ind)\n",
    "ipmag.plot_pole(m,combined_Michi_mean['dec'],combined_Michi_mean['inc'],\n",
    "                combined_Michi_mean['alpha95'],\n",
    "                label='Michipicoten Island Fm.',marker='s', color=Michi_color)\n",
    "color_ind+=1\n",
    "# Henry et al. (1977)\n",
    "Nonesuch_color = scalarMap.to_rgba(color_ind)\n",
    "ipmag.plot_pole(m, 178.1, 7.6, 5.5, label='Nonesuch Shale',\n",
    "                marker='s', color=Nonesuch_color)\n",
    "color_ind+=1\n",
    "# Henry et al. (1977)\n",
    "Freda_color = scalarMap.to_rgba(color_ind)\n",
    "ipmag.plot_pole(m, 179, 2.2, 4.2,label='Freda Sandstone', \n",
    "                marker='s', color=Freda_color)\n",
    "color_ind+=1\n",
    "# Roy et al. (1978)\n",
    "Jacobsville_color = scalarMap.to_rgba(color_ind)\n",
    "ipmag.plot_pole(m, 184, -10, 4.2,label='Jacobsville Sandstone', \n",
    "                marker='s', color=Jacobsville_color)\n",
    "color_ind+=1\n",
    "\n",
    "ax1.legend(fontsize=8, loc='lower right')\n",
    "\n",
    "ax2 = fig.add_subplot(122)\n",
    "m = Basemap(projection='ortho', lat_0=30, lon_0=-16)\n",
    "m.drawmapboundary(fill_color='white')\n",
    "m.drawmeridians(np.arange(0,360,30), zorder=1)\n",
    "m.drawparallels(np.arange(-90,90,30), zorder=1)\n",
    "\n",
    "m.readshapefile('./Code_output/Reconstructions/reconstructed_outline_{0}Ma'.format(1105),\n",
    "                'Osler_outline', color=Osler_color, linewidth=1)\n",
    "patches   = []\n",
    "for info, shape in zip(m.Osler_outline_info, m.Osler_outline):\n",
    "    patches.append( Polygon(np.array(shape), True) )\n",
    "ax2.add_collection(PatchCollection(patches, facecolor= Osler_color, \n",
    "                                   edgecolor='k', linewidths=1., zorder=2))\n",
    "m.readshapefile('./Code_output/Reconstructions/reconstructed_{0}Ma'.format(1105),\n",
    "                'Osler', color='k', linewidth=1)\n",
    "\n",
    "m.readshapefile('./Code_output/Reconstructions/reconstructed_outline_{0}Ma'.format(1100),\n",
    "                'Mamainse', color=MamainseupperR_color, linewidth=1)\n",
    "patches   = []\n",
    "for info, shape in zip(m.Mamainse_info, m.Mamainse):\n",
    "    patches.append( Polygon(np.array(shape), True) )\n",
    "ax2.add_collection(PatchCollection(patches, facecolor= MamainseupperR_color, \n",
    "                                   edgecolor='k', linewidths=1., zorder=2))\n",
    "m.readshapefile('./Code_output/Reconstructions/reconstructed_{0}Ma'.format(1100),\n",
    "                'Mamainse', color='k', linewidth=1)\n",
    "\n",
    "m.readshapefile('./Code_output/Reconstructions/reconstructed_outline_{0}Ma'.format(1097),\n",
    "                'NSVG', color=NSVG_color, linewidth=1)\n",
    "patches = []\n",
    "for info, shape in zip(m.NSVG_info, m.NSVG):\n",
    "    patches.append( Polygon(np.array(shape), True) )\n",
    "ax2.add_collection(PatchCollection(patches, facecolor= NSVG_color, edgecolor='k', \n",
    "                                   linewidths=1., zorder=2))\n",
    "m.readshapefile('./Code_output/Reconstructions/reconstructed_{0}Ma'.format(1097),\n",
    "                'NSVG', color='k', linewidth=1)\n",
    "\n",
    "m.readshapefile('./Code_output/Reconstructions/reconstructed_outline_{0}Ma'.format(1090),\n",
    "                'SLB', color=SLB_color, linewidth=1)\n",
    "patches = []\n",
    "for info, shape in zip(m.SLB_info, m.SLB):\n",
    "    patches.append( Polygon(np.array(shape), True) )\n",
    "ax2.add_collection(PatchCollection(patches, facecolor= SLB_color, edgecolor='k', \n",
    "                                   linewidths=1., zorder=2))\n",
    "m.readshapefile('./Code_output/Reconstructions/reconstructed_{0}Ma'.format(1090),\n",
    "                'SLB', color='k', linewidth=1)\n",
    "\n",
    "m.readshapefile('./Code_output/Reconstructions/reconstructed_outline_{0}Ma'.format(1083),\n",
    "                'Michipicoten', color=Michi_color, linewidth=1)\n",
    "patches = []\n",
    "for info, shape in zip(m.Michipicoten_info, m.Michipicoten):\n",
    "    patches.append( Polygon(np.array(shape), True) )\n",
    "ax2.add_collection(PatchCollection(patches, facecolor= Michi_color, edgecolor='k', \n",
    "                                   linewidths=1., zorder=2))\n",
    "m.readshapefile('./Code_output/Reconstructions/reconstructed_{0}Ma'.format(1083),\n",
    "                'Michipicoten', color='k', linewidth=1)\n",
    "\n",
    "m.readshapefile('./Code_output/Reconstructions/reconstructed_outline_{0}Ma'.format(1080),\n",
    "                'Nonesuch', color=Nonesuch_color, linewidth=1)\n",
    "patches = []\n",
    "for info, shape in zip(m.Nonesuch_info, m.Nonesuch):\n",
    "    patches.append( Polygon(np.array(shape), True) )\n",
    "ax2.add_collection(PatchCollection(patches, facecolor= Nonesuch_color, \n",
    "                                   edgecolor='k', linewidths=1., zorder=2))\n",
    "m.readshapefile('./Code_output/Reconstructions/reconstructed_{0}Ma'.format(1080),\n",
    "                'Nonesuch', color='k', linewidth=1)\n",
    "\n",
    "m.readshapefile('./Code_output/Reconstructions/reconstructed_outline_{0}Ma'.format(1070),\n",
    "                'Freda', color=Freda_color, linewidth=1)\n",
    "patches = []\n",
    "for info, shape in zip(m.Freda_info, m.Freda):\n",
    "    patches.append( Polygon(np.array(shape), True) )\n",
    "ax2.add_collection(PatchCollection(patches, facecolor= Freda_color, \n",
    "                                   edgecolor='k', linewidths=1., zorder=2))\n",
    "m.readshapefile('./Code_output/Reconstructions/reconstructed_{0}Ma'.format(1070),\n",
    "                'Freda', color='k', linewidth=1)\n",
    "# plt.savefig('Code_output/poles.pdf')\n",
    "plt.show()"
   ]
  },
  {
   "cell_type": "markdown",
   "metadata": {},
   "source": [
    "### Rates of plate motion\n",
    "\n",
    "Using the reference location of Duluth, MN we determine the latitudinal rate of motion implied by pairs of paleomagnetic poles and  utilize the Monte Carlo rates estimate approach of Swanson-Hysell et al., 2014 to estimate the uncertainty on these estimates."
   ]
  },
  {
   "cell_type": "code",
   "execution_count": null,
   "metadata": {
    "collapsed": true
   },
   "outputs": [],
   "source": [
    "%config InlineBackend.figure_formats = {'retina',}"
   ]
  },
  {
   "cell_type": "code",
   "execution_count": null,
   "metadata": {
    "collapsed": true
   },
   "outputs": [],
   "source": [
    "def plate_rate_mc(pole1_plon,pole1_plat,pole1_A95,pole1_kappa,pole1_N,pole1_age,pole1_age_error,\n",
    "                  pole2_plon,pole2_plat,pole2_A95,pole2_kappa,pole2_N,pole2_age,pole2_age_error,\n",
    "                  ref_loc_lon,ref_loc_lat,samplesize=10000, save_name=None):\n",
    "    \"\"\"\n",
    "    Determine the latitudinal motion implied by a pair of poles and utilize\n",
    "    the Monte Carlo sampling method of Swanson-Hysell (2014) to determine the\n",
    "    associated uncertainty.\n",
    "    \n",
    "    These values are required for pole1 and pole2:\n",
    "    ----------------------------\n",
    "    plon: longitude of pole\n",
    "    plat: latitude of pole\n",
    "    A95: Fisher confidence ellipse for pole\n",
    "    kappa: Fisher precision parameter for pole\n",
    "    N: number of VGPs in pole\n",
    "    age: age assigned to pole in Ma\n",
    "    age_error: 1 sigma age uncertainty in million years\n",
    "\n",
    "    Additional required parameters:\n",
    "    ----------------------------\n",
    "    ref_loc_lon: longitude of reference location\n",
    "    ref_loc_lat: latitude of reference location\n",
    "    samplesize: number of Monte Carlo draws from pole and age distributions\n",
    "    \"\"\"\n",
    "\n",
    "    ref_loc = [ref_loc_lon,ref_loc_lat]\n",
    "    pole1=(pole1_plon, pole1_plat)\n",
    "    pole1_paleolat=90-pmag.angle(pole1,ref_loc)\n",
    "    pole2=(pole2_plon, pole2_plat)\n",
    "    pole2_paleolat=90-pmag.angle(pole2,ref_loc)\n",
    "    print \"The paleolatitude for ref_loc resulting from pole 1 is:\" + str(pole1_paleolat)\n",
    "    print \"The paleolatitude for ref_loc resulting from pole 2 is:\" + str(pole2_paleolat)\n",
    "    rate=((pole1_paleolat-pole2_paleolat)*111*100000)/((pole1_age-pole2_age)*1000000)\n",
    "    print \"The rate of paleolatitudinal change implied by the poles pairs in cm/yr is:\" + str(rate)\n",
    "\n",
    "    pole1_MCages=np.random.normal(pole1_age,pole1_age_error,samplesize)\n",
    "    pole2_MCages=np.random.normal(pole2_age,pole2_age_error,samplesize)\n",
    "\n",
    "    plt.hist(pole1_MCages,100,histtype='stepfilled',color='darkred',label='Pole 1 ages')\n",
    "    plt.hist(pole2_MCages,100,histtype='stepfilled',color='darkblue',label='Pole 2 ages')\n",
    "    plt.xlabel('Age (Ma)')\n",
    "    plt.ylabel('n')\n",
    "    plt.legend(loc=3)\n",
    "    plt.savefig('Code_output/{0}_1.svg'.format(save_name))\n",
    "    plt.show()\n",
    "\n",
    "    pole1_MCpoles=[]\n",
    "    pole1_MCpole_lat=[]\n",
    "    pole1_MCpole_long=[]\n",
    "    pole1_MCpaleolat=[]\n",
    "    for n in range(samplesize):\n",
    "        vgp_samples=[]\n",
    "        for vgp in range(pole1_N):\n",
    "            #pmag.dev returns a direction from a fisher distribution with specified kappa\n",
    "            direction_atN=pmag.fshdev(pole1_kappa)\n",
    "            #this direction is centered at latitude of 90º and needs to be rotated\n",
    "            #to be centered on the mean pole position\n",
    "            tilt_direction=pole1_plon\n",
    "            tilt_amount=90-pole1_plat\n",
    "            direction=pmag.dotilt(direction_atN[0],direction_atN[1],tilt_direction,tilt_amount)\n",
    "            vgp_samples.append([direction[0],direction[1],1.])\n",
    "        mean=pmag.fisher_mean(vgp_samples)\n",
    "        mean_pole_position=(mean['dec'],mean['inc'])\n",
    "        pole1_MCpoles.append([mean['dec'],mean['inc'],1.])\n",
    "        pole1_MCpole_lat.append(mean['inc'])\n",
    "        pole1_MCpole_long.append(mean['dec'])\n",
    "        paleolat=90-pmag.angle(mean_pole_position,ref_loc)\n",
    "        pole1_MCpaleolat.append(paleolat[0])\n",
    "\n",
    "    pole2_MCpoles=[]\n",
    "    pole2_MCpole_lat=[]\n",
    "    pole2_MCpole_long=[]\n",
    "    pole2_MCpaleolat=[]\n",
    "    for n in range(samplesize):\n",
    "        vgp_samples=[]\n",
    "        for vgp in range(pole2_N):\n",
    "            #pmag.dev returns a direction from a fisher distribution with specified kappa\n",
    "            direction_atN=pmag.fshdev(pole2_kappa)\n",
    "            #this direction is centered at latitude of 90º and needs to be rotated\n",
    "            #to be centered on the mean pole position\n",
    "            tilt_direction=pole2_plon\n",
    "            tilt_amount=90-pole2_plat\n",
    "            direction=pmag.dotilt(direction_atN[0],direction_atN[1],tilt_direction,tilt_amount)\n",
    "            vgp_samples.append([direction[0],direction[1],1.])\n",
    "        mean=pmag.fisher_mean(vgp_samples)\n",
    "        mean_pole_position=(mean['dec'],mean['inc'])\n",
    "        pole2_MCpoles.append([mean['dec'],mean['inc'],1.])\n",
    "        pole2_MCpole_lat.append(mean['inc'])\n",
    "        pole2_MCpole_long.append(mean['dec'])\n",
    "        paleolat=90-pmag.angle(mean_pole_position,ref_loc)\n",
    "        pole2_MCpaleolat.append(paleolat[0])\n",
    "        \n",
    "    plt.figure(figsize=(5, 5))\n",
    "    m = Basemap(projection='ortho',lat_0=35,lon_0=200,resolution='c',area_thresh=50000)\n",
    "    m.drawcoastlines(linewidth=0.25)\n",
    "    m.fillcontinents(color='bisque',lake_color='white',zorder=1)\n",
    "    m.drawmapboundary(fill_color='white')\n",
    "    m.drawmeridians(np.arange(0,360,30))\n",
    "    m.drawparallels(np.arange(-90,90,30))\n",
    "\n",
    "    ipmag.plot_vgp(m,pole1_MCpole_long,pole1_MCpole_lat,color='b')\n",
    "    ipmag.plot_vgp(m,pole2_MCpole_long,pole2_MCpole_lat,color='g')\n",
    "    plt.savefig('Code_output/{0}_2.svg'.format(save_name))\n",
    "\n",
    "    #calculating the change in paleolatitude between the Monte Carlo pairs\n",
    "    pole1_pole2_Delta_degrees=[]\n",
    "    pole1_pole2_Delta_kilometers=[]\n",
    "    pole1_pole2_Delta_myr=[]\n",
    "    pole1_pole2_degrees_per_myr=[]\n",
    "    pole1_pole2_cm_per_yr=[]\n",
    "\n",
    "    for n in range(samplesize):\n",
    "        Delta_degrees=pole1_MCpaleolat[n]-pole2_MCpaleolat[n]\n",
    "        Delta_Myr=pole1_MCages[n]-pole2_MCages[n]\n",
    "        pole1_pole2_Delta_degrees.append(Delta_degrees)\n",
    "        degrees_per_myr=Delta_degrees/Delta_Myr\n",
    "        cm_per_yr=((Delta_degrees*111)*100000)/(Delta_Myr*1000000)\n",
    "        pole1_pole2_degrees_per_myr.append(degrees_per_myr)\n",
    "        pole1_pole2_cm_per_yr.append(cm_per_yr)\n",
    "\n",
    "    plotnumber=100\n",
    "    plt.figure(num=None, figsize=(10, 4))\n",
    "\n",
    "    plt.subplot(1, 2, 1)\n",
    "    for n in range(plotnumber):\n",
    "        plt.plot([pole1_MCpaleolat[n],pole2_MCpaleolat[n]],\n",
    "                 [pole1_MCages[n],pole2_MCages[n]],'k-',linewidth=0.1,alpha=0.3)\n",
    "    plt.scatter(pole1_MCpaleolat[:plotnumber],pole1_MCages[:plotnumber],color='b',s=3)\n",
    "    plt.scatter(pole1_paleolat,pole1_age,color='lightblue',s=100, edgecolor='w', zorder=10000)\n",
    "    plt.scatter(pole2_MCpaleolat[:plotnumber],pole2_MCages[:plotnumber],color='g',s=3)\n",
    "    plt.scatter(pole2_paleolat,pole2_age,color='lightgreen',s=100, edgecolor='w', zorder=10000)\n",
    "    plt.plot([pole1_paleolat,pole2_paleolat],[pole1_age,pole2_age],'w-',linewidth=2)\n",
    "    plt.gca().invert_yaxis()\n",
    "    plt.xlabel('paleolatitude at Duluth, MN (degrees)',size=14)\n",
    "    plt.ylabel('time (Ma)',size=14)\n",
    "\n",
    "    plt.subplot(1, 2, 2)\n",
    "    plt.hist(pole1_pole2_cm_per_yr,bins=600)\n",
    "    plt.ylabel('n',size=14)\n",
    "    plt.xlabel('latitudinal drift rate (cm/yr)',size=14)\n",
    "    plt.xlim([0,90])\n",
    "    plt.savefig('Code_output/{0}_3.svg'.format(save_name))\n",
    "    plt.show()\n",
    "\n",
    "    twopointfive_percentile=stats.scoreatpercentile(pole1_pole2_cm_per_yr,2.5)\n",
    "    fifty_percentile=stats.scoreatpercentile(pole1_pole2_cm_per_yr,50)\n",
    "    ninetysevenpointfive_percentile=stats.scoreatpercentile(pole1_pole2_cm_per_yr,97.5)\n",
    "    print \"2.5th percentile is: \" + str(twopointfive_percentile)\n",
    "    print \"50th percentile is: \" + str(fifty_percentile)\n",
    "    print \"97.5th percentile is: \" + str(ninetysevenpointfive_percentile)"
   ]
  },
  {
   "cell_type": "markdown",
   "metadata": {},
   "source": [
    "#### Latitudinal motion implied by Osler and Michipicoten poles"
   ]
  },
  {
   "cell_type": "code",
   "execution_count": null,
   "metadata": {
    "collapsed": false
   },
   "outputs": [],
   "source": [
    "#parameters for pole 1 (Osler upper R pole; Swanson-Hysell et al., 2014)\n",
    "pole1_plon=201.6\n",
    "pole1_plat=42.5\n",
    "pole1_A95=3.7\n",
    "pole1_kappa=25.7\n",
    "pole1_N=59\n",
    "pole1_age=1105.3\n",
    "#1 sigma age uncertainty \n",
    "#pole1_age_error=.33/2\n",
    "pole1_age_error=2.3/2\n",
    "\n",
    "#parameters for pole 2 (Michipicoten pole; this study)\n",
    "pole2_plon=combined_Michi_mean['dec']\n",
    "pole2_plat=combined_Michi_mean['inc']\n",
    "pole2_A95=combined_Michi_mean['alpha95']\n",
    "pole2_kappa=combined_Michi_mean['k']\n",
    "pole2_N=combined_Michi_mean['n']\n",
    "#being conservative about the rate by utilizing the younger MI date\n",
    "#MI_DI1\n",
    "pole2_age=1083.52\n",
    "pole2_age_error=.23/2\n",
    "\n",
    "#the longitude, latitude of Duluth, MN as a reference location\n",
    "ref_loc_lon = 267.9\n",
    "ref_loc_lat = 46.8\n",
    "\n",
    "plate_rate_mc(pole1_plon,pole1_plat,pole1_A95,pole1_kappa,pole1_N,pole1_age,pole1_age_error,\n",
    "                  pole2_plon,pole2_plat,pole2_A95,pole2_kappa,pole2_N,pole2_age,pole2_age_error,\n",
    "                  ref_loc_lon,ref_loc_lat,samplesize=100000, save_name='OslerMichipicoten')"
   ]
  },
  {
   "cell_type": "markdown",
   "metadata": {},
   "source": [
    "#### Latitudinal motion implied by Mamainse lowerN/upperR and Michipicoten poles"
   ]
  },
  {
   "cell_type": "code",
   "execution_count": null,
   "metadata": {
    "collapsed": false
   },
   "outputs": [],
   "source": [
    "#parameters for pole 1 (MP lower N & upper R)\n",
    "pole1_plon = 189.7\n",
    "pole1_plat = 36.1\n",
    "pole1_A95 = 4.9\n",
    "pole1_kappa = 37.3\n",
    "pole1_N = 24\n",
    "pole1_age = 1100.36\n",
    "#1 sigma age uncertainty \n",
    "pole1_age_error=.25/2\n",
    "\n",
    "#parameters for pole 2 (Michipicoten pole)\n",
    "pole2_plon=combined_Michi_mean['dec']\n",
    "pole2_plat=combined_Michi_mean['inc']\n",
    "pole2_A95=combined_Michi_mean['alpha95']\n",
    "pole2_kappa=combined_Michi_mean['k']\n",
    "pole2_N=combined_Michi_mean['n']\n",
    "#being conservative about the rate by utilizing the younger MI date\n",
    "#MI_DI1\n",
    "pole2_age=1083.52\n",
    "pole2_age_error=.23/2\n",
    "\n",
    "#the longitude, latitude of Duluth, MN as a reference location\n",
    "ref_loc_lon = 267.9\n",
    "ref_loc_lat = 46.8\n",
    "\n",
    "plate_rate_mc(pole1_plon,pole1_plat,pole1_A95,pole1_kappa,pole1_N,pole1_age,pole1_age_error,\n",
    "                  pole2_plon,pole2_plat,pole2_A95,pole2_kappa,pole2_N,pole2_age,pole2_age_error,\n",
    "                  ref_loc_lon,ref_loc_lat,samplesize=100000, save_name='MamainseMichipicoten')"
   ]
  },
  {
   "cell_type": "markdown",
   "metadata": {},
   "source": [
    "#### Latitudinal motion implied by NSVG (upper SW) and Michipicoten poles"
   ]
  },
  {
   "cell_type": "code",
   "execution_count": null,
   "metadata": {
    "collapsed": false
   },
   "outputs": [],
   "source": [
    "#parameters for pole 1 (NSVG NSWU; Tauxe et al., 2009)\n",
    "pole1_plon = NSVG_nswu_mean['dec']\n",
    "pole1_plat = NSVG_nswu_mean['inc']\n",
    "pole1_A95 = NSVG_nswu_mean['alpha95']\n",
    "pole1_kappa = NSVG_nswu_mean['k']\n",
    "pole1_N = int(NSVG_nswu_mean['n'])\n",
    "#date of Palisade Rhyolite from Schoene et al., 2006 \n",
    "pole1_age = 1094.2\n",
    "#1 sigma age uncertainty \n",
    "pole1_age_error = 0.4/2\n",
    "\n",
    "#parameters for pole 2 (Michipicoten pole; this study)\n",
    "pole2_plon=combined_Michi_mean['dec']\n",
    "pole2_plat=combined_Michi_mean['inc']\n",
    "pole2_A95=combined_Michi_mean['alpha95']\n",
    "pole2_kappa=combined_Michi_mean['k']\n",
    "pole2_N=combined_Michi_mean['n']\n",
    "#being conservative about the rate by utilizing the younger MI date\n",
    "#MI_DI1\n",
    "pole2_age=1083.52\n",
    "pole2_age_error=.23/2\n",
    "\n",
    "#the longitude, latitude of Duluth, MN as a reference location\n",
    "ref_loc_lon = 267.9\n",
    "ref_loc_lat = 46.8\n",
    "\n",
    "plate_rate_mc(pole1_plon,pole1_plat,pole1_A95,pole1_kappa,pole1_N,pole1_age,pole1_age_error,\n",
    "                  pole2_plon,pole2_plat,pole2_A95,pole2_kappa,pole2_N,pole2_age,pole2_age_error,\n",
    "                  ref_loc_lon,ref_loc_lat,samplesize=100000, save_name='NSVGMichipicoten')"
   ]
  },
  {
   "cell_type": "markdown",
   "metadata": {},
   "source": [
    "### Age of Keweenawan sediments\n",
    "#### *Nonesuch Shale*"
   ]
  },
  {
   "cell_type": "markdown",
   "metadata": {},
   "source": [
    "Geological evidence supports the interpretation that the deposition of the Nonesuch Shale occured shortly after or perhaps during late stage volcanism in the Midcontinent Rift (see main text). However, the magnetization of this formation cannot be dated as definitively. Symons et al. (2013) suggested that the magnetization of the Nonesuch shale is secondary, likely a product of oxidation and mineralization in the Nonesuch Formation that postdates its deposition and subsequent burial by the Freda sandstone. They dated this magnetization at 1063 $\\pm$ 8 Ma by projecting Laurentia's latitudinal rate of motion to the paleolatitude implied by the Nonesuch paleomagnetic pole. Their analysis assumes a rate of motion consistent with the previously hypothesized slowdown of Laurentia during the late stage of rifting (Davis and Green, 1997). However, our results suggest that Laurentia's motion continued to be rapid over this period. Redoing the analysis of Symons et al. (2013) with our revised rate estimates yields an age of Nonesuch shale magnetization of approximately 1078 Ma (see below)."
   ]
  },
  {
   "cell_type": "markdown",
   "metadata": {},
   "source": [
    "Create a motion path of Laurentia that captures the paleolatitude of Duluth, MN at 5 myr intervals through active rifting (1108-1083 Ma)."
   ]
  },
  {
   "cell_type": "code",
   "execution_count": null,
   "metadata": {
    "collapsed": true
   },
   "outputs": [],
   "source": [
    "# Duluth, MN\n",
    "SeedPoint = (46.78,-92.1)\n",
    "MovingPlate = 1000\n",
    "RelativePlate = 0\n",
    "times = np.arange(1083,1108,5)\n",
    "\n",
    "# Create a motion path feature\n",
    "digitisation_time = 0\n",
    "seed_points_at_digitisation_time = pygplates.MultiPointOnSphere([SeedPoint]) \n",
    "motion_path_feature = pygplates.Feature.create_motion_path(\n",
    "        seed_points_at_digitisation_time,\n",
    "        times,\n",
    "        valid_time=(1110, 1000),\n",
    "        relative_plate=RelativePlate,\n",
    "        reconstruction_plate_id = MovingPlate)\n",
    "\n",
    "# Create the shape of the motion path\n",
    "reconstruction_time = 1083\n",
    "reconstructed_motion_paths = []\n",
    "pygplates.reconstruct(motion_path_feature, rotation_model, \n",
    "                      reconstructed_motion_paths, reconstruction_time,\n",
    "                      reconstruct_type=pygplates.ReconstructType.motion_path)\n",
    "\n",
    "# get the reconstructed coordinates into numpy arrays\n",
    "for reconstructed_motion_path in reconstructed_motion_paths:\n",
    "    trail = reconstructed_motion_path.get_motion_path().to_lat_lon_array()"
   ]
  },
  {
   "cell_type": "code",
   "execution_count": null,
   "metadata": {
    "collapsed": false
   },
   "outputs": [],
   "source": [
    "plt.plot(times,np.flipud(trail[:,0]))\n",
    "plt.title('Paleolatitude of Duluth, MN')\n",
    "plt.xlabel('Time (Ma)')\n",
    "plt.ylabel('Latitude')\n",
    "plt.gca().grid()\n",
    "plt.gca().invert_xaxis()\n",
    "plt.show()"
   ]
  },
  {
   "cell_type": "markdown",
   "metadata": {},
   "source": [
    "The latitudinal change plotted above appears fairly constant. We therefore make a least squares fit to this data below."
   ]
  },
  {
   "cell_type": "code",
   "execution_count": null,
   "metadata": {
    "collapsed": false
   },
   "outputs": [],
   "source": [
    "m, c = np.linalg.lstsq(np.vstack([times, np.ones(len(times))]).T,\n",
    "                       np.flipud(trail[:,0]))[0]\n",
    "print 'Rate of Laurentia\\'s latitudinal motion = %0.4f degrees/myr' % (m)\n",
    "print 'or %0.4f cm/yr' % (m*11.132)"
   ]
  },
  {
   "cell_type": "code",
   "execution_count": null,
   "metadata": {
    "collapsed": false
   },
   "outputs": [],
   "source": [
    "plt.plot(times,np.flipud(trail[:,0]))\n",
    "times_new = np.arange(1073,1108,5)\n",
    "plt.plot(times_new, m*times_new + c, 'r')\n",
    "# Paleolatitude of Nonesuch is 5.6 degrees\n",
    "plt.plot([1070,1105], [5.6,5.6])\n",
    "NS_inferred_age = (5.6-c)/m\n",
    "print 'Inferred age of Nonesuch Shale if Laurentia\\n\\\n",
    "continued moving at the same rate after Midcontinent Rift volcanism ended:\\n\\\n",
    "%0.4f Ma' % (NS_inferred_age)\n",
    "plt.title('Paleolatitude of Duluth, MN')\n",
    "plt.xlabel('Time (Ma)')\n",
    "plt.ylabel('Latitude')\n",
    "plt.gca().grid()\n",
    "plt.gca().invert_xaxis()\n",
    "plt.show()"
   ]
  },
  {
   "cell_type": "markdown",
   "metadata": {},
   "source": [
    "#### *Jacobsville Sandstone*"
   ]
  },
  {
   "cell_type": "markdown",
   "metadata": {},
   "source": [
    "New detrital zircon dates from the Jacobsville sandstone, which unconformably overlies the Freda sandstone, reveal a much younger age for this formation than estimated for the Oronto Group sediments ($<$959 $\\pm$ 19 Ma; Malone et al., 2015). The paleolatitude of Laurentia implied by the Neoproterozoic APWP was then matched with that implied by the Jacobsville paleomagnetic pole, yielding a set of possible ages for Jacobsville deposition: ~780-755, ~700-610 or ~570-555 Ma (Malone et al., 2015). Motivations for redoing this analysis with paleomagnetic poles from both the APWP of Laurentia and the APWP of Baltica (hypothesized to have a longstanding connection with Laurentia's northeastern margin throughout the Neoproterozoic; Pisarevsky et al., 2003; Li et al., 2008; Evans, 2009) are outlined in the main text (*Discussion: Age of Keweenawan sediments*).\n",
    "\n",
    "We first upload paleomagnetic poles of Laurentia as compiled by the Nordic Supercontinent Workshop, Haraldvangen, Norway in 2014 (see references in Figure 7 of the manuscript). "
   ]
  },
  {
   "cell_type": "code",
   "execution_count": null,
   "metadata": {
    "collapsed": false
   },
   "outputs": [],
   "source": [
    "Laurentia_poles = pd.read_csv('../Data/Reconstruction/Laurentia_Poles.csv', \n",
    "                              usecols=['Formation', 'Terrane', 'AgeUpper', \n",
    "                                       'AgeLower', 'AgeNominal', 'A95', \n",
    "                                       'SLat', 'SLon', 'PLat', 'PLon', \n",
    "                                       'RefLat', 'RefLon'])\n",
    "Laurentia_poles = Laurentia_poles.sort_values(by='AgeNominal', \n",
    "                                              ascending=False)\n",
    "Laurentia_poles.reset_index(inplace=True, drop=True)\n",
    "Laurentia_poles"
   ]
  },
  {
   "cell_type": "markdown",
   "metadata": {},
   "source": [
    "The paleolatitude of Duluth, MN (\"RefLat\", \"RefLon\") is then calculated for each of these paleomagnetic poles and plotted below."
   ]
  },
  {
   "cell_type": "code",
   "execution_count": null,
   "metadata": {
    "collapsed": false
   },
   "outputs": [],
   "source": [
    "Laurentia_poles['Latitude'] = pd.Series(90 - np.rad2deg(np.arccos\\\n",
    "(np.sin(np.deg2rad(Laurentia_poles['RefLat']))\\\n",
    "*np.sin(np.deg2rad(Laurentia_poles['PLat']))\\\n",
    "+np.cos(np.deg2rad(Laurentia_poles['RefLat']))\\\n",
    "*np.cos(np.deg2rad(Laurentia_poles['PLat']))\\\n",
    "*np.cos(np.deg2rad(Laurentia_poles['RefLon']-Laurentia_poles['PLon'])))))"
   ]
  },
  {
   "cell_type": "code",
   "execution_count": null,
   "metadata": {
    "collapsed": false
   },
   "outputs": [],
   "source": [
    "# First we must tweak the format of the pole list\n",
    "Laurentia_copy = pd.DataFrame(Laurentia_poles, columns=['PLat','PLon'])\n",
    "Laurentia_copy = Laurentia_copy.rename_axis({'PLat':'PLat_rot', \n",
    "                                             'PLon':'PLon_rot'}, \n",
    "                                            axis='columns')\n",
    "Laurentia_poles['PLat_rot'] = Laurentia_copy.PLat_rot\n",
    "Laurentia_poles['PLon_rot'] = Laurentia_copy.PLon_rot\n",
    "Laurentia_poles['AgeNominal_neg'] = Laurentia_poles.AgeNominal.apply(np.negative)\n",
    "\n",
    "# Plot the paleolatitude of Duluth using Laurentia poles\n",
    "fig = plt.figure(figsize=(20,6))\n",
    "\n",
    "ax1 = fig.add_subplot(131)\n",
    "ax1.add_patch(mpatch.Rectangle((1300, -12.2), -1000, 8.4, \n",
    "                               facecolor='r', alpha=0.2))\n",
    "ax1.plot([-8.1]*2000, 'r-')\n",
    "ax1.errorbar(Laurentia_poles['AgeNominal'].tolist(), \n",
    "             Laurentia_poles['Latitude'].tolist(), \n",
    "             yerr=Laurentia_poles['A95'].tolist(), \n",
    "             xerr=(Laurentia_poles['AgeUpper']-Laurentia_poles['AgeLower'])/2)\n",
    "ax1.text(1150, -6,'Paleolat. from Jacobsville Sandstone', \n",
    "         color='r', withdash=True)\n",
    "# Cut off at Tonian/Cryogenian boundary\n",
    "ax1.set_xlim(1200,717)\n",
    "ax1.set_ylim(-90,90)\n",
    "ax1.set_ylabel('Paleolatitude of Laurentia (Laurentia poles)')\n",
    "ax1.set_xlabel('Age (Ma)')\n",
    "plt.show()"
   ]
  },
  {
   "cell_type": "markdown",
   "metadata": {},
   "source": [
    "Next, we upload paleomagnetic poles of Baltica as compiled by the Nordic Supercontinent Workshop, Haraldvangen, Norway in 2014 (see references in Figure 7 of the paper)."
   ]
  },
  {
   "cell_type": "code",
   "execution_count": null,
   "metadata": {
    "collapsed": false
   },
   "outputs": [],
   "source": [
    "Baltica_poles = pd.read_csv('../Data/Reconstruction/Baltica_Poles.csv', \n",
    "                              usecols=['Formation', 'Terrane', 'AgeUpper', \n",
    "                                       'AgeLower', 'AgeNominal', 'A95', \n",
    "                                       'SLat', 'SLon', 'PLat', 'PLon', \n",
    "                                       'RefLat', 'RefLon'])\n",
    "Baltica_poles = Baltica_poles.sort_values(by='AgeNominal', ascending=False)\n",
    "Baltica_poles.reset_index(inplace=True, drop=True)\n",
    "Baltica_poles"
   ]
  },
  {
   "cell_type": "markdown",
   "metadata": {},
   "source": [
    "We then rotate these Baltica poles based on the reconstruction of Evans (2009) and do the same calculation for paleolatitude of Duluth, MN. "
   ]
  },
  {
   "cell_type": "code",
   "execution_count": null,
   "metadata": {
    "collapsed": false
   },
   "outputs": [],
   "source": [
    "Baltica_poles['PLat_rot'], Baltica_poles['PLon_rot'] = pmag.PTrot([81.5, \n",
    "                                                                   -110.0,\n",
    "                                                                   -50.0], \n",
    "                                       Baltica_poles.PLat.tolist(), \n",
    "                                       Baltica_poles.PLon.tolist())\n",
    "Baltica_poles['Latitude'] = pd.Series(90 - np.rad2deg(np.arccos\\\n",
    "(np.sin(np.deg2rad(Baltica_poles['RefLat']))\\\n",
    "*np.sin(np.deg2rad(Baltica_poles['PLat_rot']))\\\n",
    "+np.cos(np.deg2rad(Baltica_poles['RefLat']))\\\n",
    "*np.cos(np.deg2rad(Baltica_poles['PLat_rot']))\\\n",
    "*np.cos(np.deg2rad(Baltica_poles['RefLon']-Baltica_poles['PLon_rot'])))))"
   ]
  },
  {
   "cell_type": "markdown",
   "metadata": {},
   "source": [
    "We then combined the Laurentia and Baltica poles."
   ]
  },
  {
   "cell_type": "code",
   "execution_count": null,
   "metadata": {
    "collapsed": false
   },
   "outputs": [],
   "source": [
    "combined_poles = Baltica_poles.append(Laurentia_poles)\n",
    "combined_poles = combined_poles.sort_values(by='AgeNominal', ascending=False)\n",
    "combined_poles = combined_poles.loc[combined_poles['AgeNominal']<=1200]\n",
    "# Cut off at Tonian/Cryogenian boundary\n",
    "combined_poles = combined_poles.loc[combined_poles['AgeNominal']>=717]\n",
    "combined_poles.reset_index(inplace=True, drop=True)\n",
    "combined_poles['AgeNominal_neg'] = combined_poles.AgeNominal.apply(np.negative)"
   ]
  },
  {
   "cell_type": "code",
   "execution_count": null,
   "metadata": {
    "collapsed": false
   },
   "outputs": [],
   "source": [
    "plt.figure(figsize=(13,8))\n",
    "plt.subplot2grid((2,3), (0,1), colspan=2)\n",
    "m = Basemap(projection='moll',lat_0=30,lon_0=210,resolution='c',area_thresh=50000)\n",
    "m.readshapefile('../Data/Reconstruction/Laurentia_Baltica', \n",
    "                'Laurentia_Baltica', drawbounds=True, linewidth=1)\n",
    "m.drawcoastlines(linewidth=0.25)\n",
    "m.fillcontinents(color='bisque',lake_color='white')\n",
    "m.drawmapboundary(fill_color='white')\n",
    "m.drawmeridians(np.arange(0,360,30))\n",
    "m.drawparallels(np.arange(-90,90,30))\n",
    "Laurentia_poles = Laurentia_poles.loc[Laurentia_poles['AgeNominal']<=1200]\n",
    "Laurentia_poles = Laurentia_poles.loc[Laurentia_poles['AgeNominal']>=635]\n",
    "Laurentia_poles.reset_index(inplace=True, drop=True)\n",
    "centerlon, centerlat = m(Laurentia_poles['PLon_rot'].tolist(),\n",
    "                         Laurentia_poles['PLat_rot'].tolist())\n",
    "for n in range(len(Laurentia_poles)):\n",
    "    ipmag.plot_pole(m, Laurentia_poles['PLon_rot'][n],\n",
    "                         Laurentia_poles['PLat_rot'][n], \n",
    "                         Laurentia_poles['A95'][n])\n",
    "ipmag.plot_pole(m, 184, -10, 4.2, marker='s', color='r', markersize=6.0)\n",
    "m.scatter(centerlon, centerlat, c=Laurentia_poles['AgeNominal_neg'].tolist(), \n",
    "          cmap='cubehelix', s=40, zorder=101)\n",
    "plt.colorbar(orientation='horizontal', shrink=0.6)\n",
    "\n",
    "ax1 = plt.subplot2grid((2,3), (0,0), colspan=1)\n",
    "ax1.add_patch(mpatch.Rectangle((1300, -12.2), -1000, 8.4, \n",
    "                               facecolor='r', alpha=0.2))\n",
    "ax1.plot([-8.1]*2000, 'r-')\n",
    "ax1.errorbar(Laurentia_poles['AgeNominal'].tolist(), \n",
    "             Laurentia_poles['Latitude'].tolist(), \n",
    "             yerr=Laurentia_poles['A95'].tolist(), \n",
    "             xerr=(Laurentia_poles['AgeUpper']-Laurentia_poles['AgeLower'])/2, c='b')\n",
    "ax1.text(1150, -6,'Paleolat. from Jacobsville Sandstone', \n",
    "         color='r',withdash=True)\n",
    "ax1.text(900, 70,'Laurentia poles')\n",
    "ax1.set_xlim(1200,700)\n",
    "ax1.set_ylim(-90,90)\n",
    "ax1.set_ylabel('Paleolatitude of Duluth, MN')\n",
    "ax1.set_xlabel('Age (Ma)')\n",
    "\n",
    "m = Basemap(projection='moll',lat_0=30,lon_0=210,resolution='c',\n",
    "            area_thresh=50000)\n",
    "plt.subplot2grid((2,3), (1,1), colspan=2)\n",
    "m.readshapefile('../Data/Reconstruction/Laurentia_Baltica', \n",
    "                'Laurentia_Baltica', drawbounds=True, linewidth=1)\n",
    "m.drawcoastlines(linewidth=0.25)\n",
    "m.fillcontinents(color='bisque',lake_color='white')\n",
    "m.drawmapboundary(fill_color='white')\n",
    "m.drawmeridians(np.arange(0,360,30))\n",
    "m.drawparallels(np.arange(-90,90,30))\n",
    "centerlon, centerlat = m(combined_poles['PLon_rot'].tolist(),\n",
    "                         combined_poles['PLat_rot'].tolist())\n",
    "for n in range(len(combined_poles)):\n",
    "    ipmag.plot_pole(m, combined_poles['PLon_rot'][n],\n",
    "                         combined_poles['PLat_rot'][n], \n",
    "                         combined_poles['A95'][n])\n",
    "ipmag.plot_pole(m, 184, -10, 4.2, marker='s', color='r', markersize=6.0)\n",
    "m.scatter(centerlon, centerlat, c=combined_poles['AgeNominal_neg'].tolist(), \n",
    "          cmap='cubehelix', s=40, zorder=101)\n",
    "plt.colorbar(orientation='horizontal', shrink=0.6)\n",
    "\n",
    "ax2 = plt.subplot2grid((2,3), (1,0), colspan=1)\n",
    "ax2.add_patch(mpatch.Rectangle((1300, -12.2), -1000, 8.4, \n",
    "                               facecolor='r', alpha=0.2))\n",
    "ax2.plot([-8.1]*2000, 'r-')\n",
    "ax2.errorbar(combined_poles['AgeNominal'].tolist(), \n",
    "             combined_poles['Latitude'].tolist(), \n",
    "             yerr=combined_poles['A95'].tolist(), \n",
    "             xerr=(combined_poles['AgeUpper']-combined_poles['AgeLower'])/2, c='g')\n",
    "for n in range(len(Laurentia_poles)):\n",
    "    ax2.errorbar(Laurentia_poles['AgeNominal'][n], \n",
    "                 Laurentia_poles['Latitude'][n], \n",
    "                 yerr=Laurentia_poles['A95'][n], \n",
    "                 xerr=(Laurentia_poles['AgeUpper'][n]-Laurentia_poles['AgeLower'][n])/2, c='b')\n",
    "    \n",
    "ax2.text(1000, 70,'Laurentia + Baltica poles')\n",
    "ax2.set_xlim(1200,700)\n",
    "ax2.set_ylim(-90,90)\n",
    "ax2.set_ylabel('Paleolatitude of Duluth, MN')\n",
    "ax2.set_xlabel('Age (Ma)')\n",
    "\n",
    "\n",
    "plt.savefig('Code_output/Laur_Bal_poles.svg')\n",
    "plt.show()"
   ]
  },
  {
   "cell_type": "markdown",
   "metadata": {},
   "source": [
    "As seen below, the Jacobsville paleomagnetic pole aligns well with the Early Cambrian segment of Laurentia's APWP, suggesting a possible alternative Cambrian age. However, a Cambrian deposition of the Jacobsville seems unlikely when considering geological and fault relationships in the rift structure (see main text)."
   ]
  },
  {
   "cell_type": "code",
   "execution_count": null,
   "metadata": {
    "collapsed": false
   },
   "outputs": [],
   "source": [
    "Laurentia_Phanerozoic_poles = pd.read_csv('../Data/Reconstruction/Laurentia_Pole_Compilation.csv')\n",
    "\n",
    "plt.figure(figsize=(8, 8))\n",
    "pmap = Basemap(projection='ortho',lat_0=25,lon_0=165,\n",
    "               resolution='c',area_thresh=50000)\n",
    "pmap.drawcoastlines(linewidth=0.25)\n",
    "pmap.fillcontinents(color='bisque',lake_color='white',zorder=1)\n",
    "pmap.drawmapboundary(fill_color='white')\n",
    "pmap.drawmeridians(np.arange(0,360,30))\n",
    "pmap.drawparallels(np.arange(-90,90,30))\n",
    "\n",
    "\n",
    "# centerlon, centerlat = pmap(combined_poles['PLon_rot'].tolist(),combined_poles['PLat_rot'].tolist())\n",
    "# for n in range(len(combined_poles)):\n",
    "#     ipmag.plot_pole(m, combined_poles['PLon_rot'][n],\n",
    "#                          combined_poles['PLat_rot'][n], \n",
    "#                          combined_poles['A95'][n])\n",
    "\n",
    "for n in xrange (0, len(Laurentia_Phanerozoic_poles)):\n",
    "     m = ipmag.plot_pole_colorbar(pmap, Laurentia_Phanerozoic_poles['CLon'][n] - 180,\n",
    "                                  -Laurentia_Phanerozoic_poles['CLat'][n],\n",
    "                                  Laurentia_Phanerozoic_poles['A95'][n],\n",
    "                                  -Laurentia_Phanerozoic_poles['Age'][n],\n",
    "                                  -532,\n",
    "                                  -300,\n",
    "                                  markersize=80, alpha=0.6)\n",
    "        \n",
    "m = ipmag.plot_pole_colorbar(pmap, 184, -10, 4.2, 532, -532, -300, marker='*', markersize=50, \n",
    "                             color=\"k\", alpha=1, label='Jacobsville pole')\n",
    "\n",
    "pmap.colorbar(m,location='bottom',pad=\"5%\",label='Age of magnetization (Ma)')\n",
    "#ipmag.plot_pole(pmap, 184, -10, 4.2, marker='*', color='r', markersize=30.0, label='Jacobsville pole')\n",
    "plt.legend()\n",
    "plt.savefig('Code_output/PhanerozoicAPWP_Jacobsville.pdf')\n",
    "plt.show()"
   ]
  },
  {
   "cell_type": "markdown",
   "metadata": {},
   "source": [
    "## Map of late stage volcanics paleomagnetic sites"
   ]
  },
  {
   "cell_type": "markdown",
   "metadata": {},
   "source": [
    "The following is an overview map of all paleomagnetic sites used in the preceding analysis."
   ]
  },
  {
   "cell_type": "code",
   "execution_count": null,
   "metadata": {
    "collapsed": false
   },
   "outputs": [],
   "source": [
    "fig = plt.figure(figsize=(8,8))\n",
    "m = Basemap(projection='merc',llcrnrlat=46.2,urcrnrlat=50,llcrnrlon=-92.5,\n",
    "            urcrnrlon=-84,resolution='i',area_thresh = 0.1) #lat_ts=-25\n",
    "m.drawrivers(color='#99ffff')\n",
    "m.drawcoastlines()\n",
    "#m.drawcountries(linewidth=1.5)\n",
    "m.drawmapboundary(fill_color='#99ffff')\n",
    "m.fillcontinents(color='#cc9966',lake_color='#99ffff')\n",
    "parallels = np.arange(-90,90,2.)\n",
    "m.drawparallels(parallels,labels=[1,0,0,0],fontsize=10)\n",
    "meridians = np.arange(0.,360.,2.)\n",
    "m.drawmeridians(meridians,labels=[0,0,0,1],fontsize=10)\n",
    "plt.title('Late Stage paleomagnetic sites')\n",
    "\n",
    "LST_site_lon=[]\n",
    "LST_site_lat=[]\n",
    "for n in range(0,len(Kulakov2013a_LST_Data)):\n",
    "    LST_site_lon.append(Kulakov2013a_LST_Data['site_lon'][n])          \n",
    "    LST_site_lat.append(Kulakov2013a_LST_Data['site_lat'][n])  \n",
    "for n in range(0,len(Diehl1994a_LST_Data_all)):\n",
    "    LST_site_lon.append(Diehl1994a_LST_Data_all['site_lon'][n])          \n",
    "    LST_site_lat.append(Diehl1994a_LST_Data_all['site_lat'][n])\n",
    "    \n",
    "LST_x,LST_y = m(LST_site_lon,LST_site_lat)\n",
    "m.plot(LST_x, LST_y, 'bo', markersize=5, \n",
    "       label='Lake Shore Traps')\n",
    "\n",
    "SLB_x,SLB_y = m(NSVG_nsl['site_lon'].tolist()+SLB_Data['average_lon'].tolist(),\n",
    "                NSVG_nsl['site_lat'].tolist()+SLB_Data['average_lat'].tolist())\n",
    "m.plot(SLB_x, SLB_y, 'ro', markersize=5, \n",
    "       label='Schroeder-Lutsen Basalts')\n",
    "\n",
    "MI_x,MI_y = m(SS_final_tc['average_lon'].tolist()+Palmer_data_trimmed['site_lon'].tolist(),\n",
    "              SS_final_tc['average_lat'].tolist()+Palmer_data_trimmed['site_lat'].tolist())\n",
    "m.plot(MI_x, MI_y, 'go', markersize=5, \n",
    "       label='Michipicoten Island Formation')\n",
    "plt.legend()\n",
    "plt.show()"
   ]
  },
  {
   "cell_type": "markdown",
   "metadata": {},
   "source": [
    "## References\n",
    "\n",
    "Books, K., 1968, Magnetization of the lowermost Keweenawan lava flows in the Lake Superior area, Geological Survey research 1968, chapter D: U.S. Geological Survey Professional Paper, vol. P 0600-D, pp. 248–254.\n",
    "\n",
    "Books, K., 1972, Paleomagnetism of some Lake Superior Keweenawan rocks: U.S. Geological Survey Professional Paper, vol. P 0760, p. 42.\n",
    "\n",
    "Davis, D. and Green, J., 1997, Geochronology of the North American Midcontinent rift in western Lake Superior and implications for its geodynamic evolution: Canadian Journal of Earth Science, vol. 34, pp. 476–488, doi: 10.1139/e17-039.\n",
    "\n",
    "Diehl, J. and Haig, T., 1994, A paleomagnetic study of the lava flows within the Copper Harbour Conglomerate, Michigan: New results and implications: Canadian Journal of Earth Sciences, vol. 31, pp. 369–380, doi:10.1139/ e94-034.\n",
    "\n",
    "Evans, D., 2009, The palaeomagnetically viable, long-lived and all-inclusive Rodinia supercontinent reconstruction: In Murphy, J., Keppie, J., and Hynes, A., eds., Ancient Orogens and Modern Analogues, Geological Society of London Special Publication, vol. 327, pp. 371–404, doi:10.1144/sp327.16.\n",
    "\n",
    "Fisher, N. I., Lewis, T., and Embleton, B. J. J., 1987, Statistical Analysis of Spherical Data: Cambridge University Press, doi:10.1017/CBO9780511623059.\n",
    "\n",
    "Kulakov, E. V., Smirnov, A. V., and Diehl, J. F., 2013, Paleomagnetism of ∼1.09 Ga Lake Shore Traps (Keweenaw Peninsula, Michigan): new results and implications: Canadian Journal of Earth Sciences, vol. 50, pp. 1085–1096, doi:10.1139/cjes-2013-0003.\n",
    "\n",
    "Li, Z. X. et al., 2008, Assembly, configuration, and break-up history of Rodinia: A synthesis: Precambrian Research, vol. 160, pp. 179–210, doi:10.1016/j.precamres.2007.04.021.\n",
    "\n",
    "Malone, D. H., Stein, C. A., Craddock, J. P., Kley, J., Stein, S., and Malone, J. E., 2015, Maximum depositional age of the Neoproterozoic Jacobsville Sandstone, Michigan: Implications for the evolution of the Midcontinent Rift: URL http://www.earth.northwestern.edu/people/seth/Texts/mcrfail.pdf.\n",
    "\n",
    "McFadden, P. and McElhinny, M., 1990, Classification of the reversal test in palaeomagnetism: Geophysical Journal International, vol. 103, pp. 725–729.\n",
    "\n",
    "Palmer, H., 1970, Paleomagnetism and correlation of some Middle Keweenawan rocks, Lake Superior: Canadian Journal of Earth Science, vol. 7, pp. 1410–1436, doi:10.1139/e70-136.\n",
    "\n",
    "Palmer, H. and Davis, D., 1987, Paleomagnetism and U-Pb geochronology of volcanic rocks from Michipicoten Island, Lake Superior, Canada: precise calibration of the Keweenawan polar wander track: Precambrian Research, vol. 37, pp. 157–171, doi:10.1016/0301-9268(87)90077-5.\n",
    "\n",
    "Pisarevsky, S., Wingate, T., Powell, C. M., Johnson, S., and Evans, D., 2003, Models of Rodinia assembly and fragmentation: In Yoshida, M., Windley, B., and Dasgupta, S., eds., Proterozoic East Gondwana: Supercontinent Assembly and Breakup, The Geological Society of London Special Publications, vol. 206, pp. 35–55, doi:10.1144/ gsl.sp.2003.206.01.04.\n",
    "\n",
    "Symons, D. T. A., Kawasaki, K., and Diehl, J. F., 2013, Age and genesis of the White Pine stratiform copper mineralization, northern Michigan, USA, from paleomagnetism: Geofluids, vol. 13, pp. 112–126, doi:10.1111/gfl.12024.\n",
    "\n",
    "Swanson-Hysell, N. L., Vaughan, A. A., Mustain, M. R., and Asp, K. E., 2014, Confirmation of progressive plate motion during the Midcontinent Rift’s early magmatic stage from the Osler Volcanic Group, Ontario, Canada: Geochemistry Geophysics Geosystems, vol. 15, pp. 2039–2047, doi:10.1002/2013GC005180.\n",
    "\n",
    "\n",
    "Tauxe, L. and Kodama, K., 2009, Paleosecular variation models for ancient times: Clues from Keweenawan lava flows: Physics of the Earth and Planetary Interiors, vol. 177, pp. 31–45, doi:10.1016/j.pepi.2009.07.006.\n",
    "\n",
    "Tauxe, L., Shaar, R., Jonestrask, L., Swanson-Hysell, N., Minnett, R., Koppers, A., Constable, C., Jarboe, N., Gaastra, K., and Fairchild, L., 2016, PmagPy: Software package for paleomagnetic data analysis and a bridge to the Magnetics Information Consortium (MagIC) Database: Geochemistry, Geophysics, Geosystems, doi:10.1002/ 2016GC006307.\n",
    "\n",
    "Watson, G., 1956, A test for randomness of directions: Geophysical Journal International, vol. 7, pp. 160–161, doi:10.1111/j.1365-246X.1956.tb05561.x."
   ]
  },
  {
   "cell_type": "code",
   "execution_count": null,
   "metadata": {
    "collapsed": true
   },
   "outputs": [],
   "source": []
  }
 ],
 "metadata": {
  "anaconda-cloud": {},
  "hide_input": false,
  "kernelspec": {
   "display_name": "Python 2",
   "language": "python",
   "name": "python2"
  },
  "language_info": {
   "codemirror_mode": {
    "name": "ipython",
    "version": 2
   },
   "file_extension": ".py",
   "mimetype": "text/x-python",
   "name": "python",
   "nbconvert_exporter": "python",
   "pygments_lexer": "ipython2",
   "version": "2.7.12"
  },
  "toc": {
   "toc_cell": true,
   "toc_number_sections": false,
   "toc_section_display": "none",
   "toc_threshold": 4,
   "toc_window_display": true
  },
  "toc_position": {
   "left": "1147px",
   "right": "20px",
   "top": "137px",
   "width": "262px"
  }
 },
 "nbformat": 4,
 "nbformat_minor": 0
}
